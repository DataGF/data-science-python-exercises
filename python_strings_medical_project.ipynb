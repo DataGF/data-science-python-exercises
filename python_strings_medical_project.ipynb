{
  "nbformat": 4,
  "nbformat_minor": 0,
  "metadata": {
    "colab": {
      "name": "python_strings_medical_project.ipynb",
      "provenance": [],
      "authorship_tag": "ABX9TyO6WhGijiZYFgPWk7qL9zex",
      "include_colab_link": true
    },
    "kernelspec": {
      "name": "python3",
      "display_name": "Python 3"
    }
  },
  "cells": [
    {
      "cell_type": "markdown",
      "metadata": {
        "id": "view-in-github",
        "colab_type": "text"
      },
      "source": [
        "<a href=\"https://colab.research.google.com/github/DataGF/data-science-python-exercises/blob/master/python_strings_medical_project.ipynb\" target=\"_parent\"><img src=\"https://colab.research.google.com/assets/colab-badge.svg\" alt=\"Open In Colab\"/></a>"
      ]
    },
    {
      "cell_type": "markdown",
      "metadata": {
        "id": "EjrGAbFot9Ob"
      },
      "source": [
        "# Python Strings: Medical Insurance Project"
      ]
    },
    {
      "cell_type": "markdown",
      "metadata": {
        "id": "OIE9sCRHt_30"
      },
      "source": [
        "In this project, you will use your new knowledge of Python strings to obtain and clean up medical data so that it is easier to read and analyze.\n",
        "\n",
        "Let’s get started!"
      ]
    },
    {
      "cell_type": "code",
      "metadata": {
        "id": "EX_hx8eKt7yj"
      },
      "source": [
        "# Medical data\n",
        "medical_data = \\\n",
        "\"\"\"Marina Allison   ,27   ,   31.1 , \n",
        "#7010.0   ;Markus Valdez   ,   30, \n",
        "22.4,   #4050.0 ;Connie Ballard ,43 \n",
        ",   25.3 , #12060.0 ;Darnell Weber   \n",
        ",   35   , 20.6   , #7500.0;\n",
        "Sylvie Charles   ,22, 22.1 \n",
        ",#3022.0   ;   Vinay Padilla,24,   \n",
        "26.9 ,#4620.0 ;Meredith Santiago, 51   , \n",
        "29.3 ,#16330.0;   Andre Mccarty, \n",
        "19,22.7 , #2900.0 ; \n",
        "Lorena Hodson ,65, 33.1 , #19370.0; \n",
        "Isaac Vu ,34, 24.8,   #7045.0\"\"\""
      ],
      "execution_count": 1,
      "outputs": []
    },
    {
      "cell_type": "code",
      "metadata": {
        "id": "6vShM-tjuLvi",
        "outputId": "d595b7b7-d689-400d-d0db-9ae17566d589",
        "colab": {
          "base_uri": "https://localhost:8080/",
          "height": 221
        }
      },
      "source": [
        "# Show medical data\n",
        "print(medical_data)"
      ],
      "execution_count": 2,
      "outputs": [
        {
          "output_type": "stream",
          "text": [
            "Marina Allison   ,27   ,   31.1 , \n",
            "#7010.0   ;Markus Valdez   ,   30, \n",
            "22.4,   #4050.0 ;Connie Ballard ,43 \n",
            ",   25.3 , #12060.0 ;Darnell Weber   \n",
            ",   35   , 20.6   , #7500.0;\n",
            "Sylvie Charles   ,22, 22.1 \n",
            ",#3022.0   ;   Vinay Padilla,24,   \n",
            "26.9 ,#4620.0 ;Meredith Santiago, 51   , \n",
            "29.3 ,#16330.0;   Andre Mccarty, \n",
            "19,22.7 , #2900.0 ; \n",
            "Lorena Hodson ,65, 33.1 , #19370.0; \n",
            "Isaac Vu ,34, 24.8,   #7045.0\n"
          ],
          "name": "stdout"
        }
      ]
    },
    {
      "cell_type": "code",
      "metadata": {
        "id": "wf05ooopuMrI",
        "outputId": "a06f6e77-4017-42c2-b879-f514ed00e472",
        "colab": {
          "base_uri": "https://localhost:8080/",
          "height": 221
        }
      },
      "source": [
        "# Replace # for $\n",
        "updated_medical_data = medical_data.replace(\"#\", \"$\")\n",
        "print(updated_medical_data)"
      ],
      "execution_count": 3,
      "outputs": [
        {
          "output_type": "stream",
          "text": [
            "Marina Allison   ,27   ,   31.1 , \n",
            "$7010.0   ;Markus Valdez   ,   30, \n",
            "22.4,   $4050.0 ;Connie Ballard ,43 \n",
            ",   25.3 , $12060.0 ;Darnell Weber   \n",
            ",   35   , 20.6   , $7500.0;\n",
            "Sylvie Charles   ,22, 22.1 \n",
            ",$3022.0   ;   Vinay Padilla,24,   \n",
            "26.9 ,$4620.0 ;Meredith Santiago, 51   , \n",
            "29.3 ,$16330.0;   Andre Mccarty, \n",
            "19,22.7 , $2900.0 ; \n",
            "Lorena Hodson ,65, 33.1 , $19370.0; \n",
            "Isaac Vu ,34, 24.8,   $7045.0\n"
          ],
          "name": "stdout"
        }
      ]
    },
    {
      "cell_type": "code",
      "metadata": {
        "id": "0e26R-sUuila",
        "outputId": "2fe9e48b-078e-4ba1-9828-afadcdcc4a53",
        "colab": {
          "base_uri": "https://localhost:8080/",
          "height": 34
        }
      },
      "source": [
        "# Show number of medical records in the data\n",
        "num_records = 0\n",
        "\n",
        "for character in updated_medical_data:\n",
        "  if character == \"$\":\n",
        "    num_records += 1\n",
        "\n",
        "print(\"There are \" + str(num_records) + \" medical records in the data.\")"
      ],
      "execution_count": 4,
      "outputs": [
        {
          "output_type": "stream",
          "text": [
            "There are 10 medical records in the data.\n"
          ],
          "name": "stdout"
        }
      ]
    },
    {
      "cell_type": "code",
      "metadata": {
        "id": "8iLHiu49ut9b",
        "outputId": "5207749c-4496-4ce1-ba07-a95e0c83f211",
        "colab": {
          "base_uri": "https://localhost:8080/",
          "height": 54
        }
      },
      "source": [
        "# Split medical data by \";\"\n",
        "medical_data_split = updated_medical_data.split(\";\")\n",
        "print(medical_data_split)"
      ],
      "execution_count": 5,
      "outputs": [
        {
          "output_type": "stream",
          "text": [
            "['Marina Allison   ,27   ,   31.1 , \\n$7010.0   ', 'Markus Valdez   ,   30, \\n22.4,   $4050.0 ', 'Connie Ballard ,43 \\n,   25.3 , $12060.0 ', 'Darnell Weber   \\n,   35   , 20.6   , $7500.0', '\\nSylvie Charles   ,22, 22.1 \\n,$3022.0   ', '   Vinay Padilla,24,   \\n26.9 ,$4620.0 ', 'Meredith Santiago, 51   , \\n29.3 ,$16330.0', '   Andre Mccarty, \\n19,22.7 , $2900.0 ', ' \\nLorena Hodson ,65, 33.1 , $19370.0', ' \\nIsaac Vu ,34, 24.8,   $7045.0']\n"
          ],
          "name": "stdout"
        }
      ]
    },
    {
      "cell_type": "code",
      "metadata": {
        "id": "UdrTkFZIu4WJ",
        "outputId": "589293c1-7653-45b5-c372-386e0da2ff74",
        "colab": {
          "base_uri": "https://localhost:8080/",
          "height": 54
        }
      },
      "source": [
        "# Split medical data by \",\"\n",
        "medical_records = []\n",
        "\n",
        "for record in medical_data_split:\n",
        "  medical_records.append(record.split(','))\n",
        "print(medical_records)"
      ],
      "execution_count": 6,
      "outputs": [
        {
          "output_type": "stream",
          "text": [
            "[['Marina Allison   ', '27   ', '   31.1 ', ' \\n$7010.0   '], ['Markus Valdez   ', '   30', ' \\n22.4', '   $4050.0 '], ['Connie Ballard ', '43 \\n', '   25.3 ', ' $12060.0 '], ['Darnell Weber   \\n', '   35   ', ' 20.6   ', ' $7500.0'], ['\\nSylvie Charles   ', '22', ' 22.1 \\n', '$3022.0   '], ['   Vinay Padilla', '24', '   \\n26.9 ', '$4620.0 '], ['Meredith Santiago', ' 51   ', ' \\n29.3 ', '$16330.0'], ['   Andre Mccarty', ' \\n19', '22.7 ', ' $2900.0 '], [' \\nLorena Hodson ', '65', ' 33.1 ', ' $19370.0'], [' \\nIsaac Vu ', '34', ' 24.8', '   $7045.0']]\n"
          ],
          "name": "stdout"
        }
      ]
    },
    {
      "cell_type": "code",
      "metadata": {
        "id": "ba63QDAvvW5q",
        "outputId": "e327ec40-6f96-426a-fba9-05df3601fbeb",
        "colab": {
          "base_uri": "https://localhost:8080/",
          "height": 54
        }
      },
      "source": [
        "# Clean medical data\n",
        "medical_records_clean = []\n",
        "\n",
        "# outside loop that goes through each record in medical_records\n",
        "for record in medical_records:\n",
        "  # empty list that will store each cleaned record\n",
        "  record_clean = []\n",
        "  # nested loop to go through each item in each medical record\n",
        "  for item in record:\n",
        "    # cleaning the whitespace for each record using item.strip()\n",
        "    record_clean.append(item.strip())\n",
        "# add the cleaned medical record to the medical_records_clean list\n",
        "  medical_records_clean.append(record_clean)\n",
        "\n",
        "print(medical_records_clean)"
      ],
      "execution_count": 9,
      "outputs": [
        {
          "output_type": "stream",
          "text": [
            "[['Marina Allison', '27', '31.1', '$7010.0'], ['Markus Valdez', '30', '22.4', '$4050.0'], ['Connie Ballard', '43', '25.3', '$12060.0'], ['Darnell Weber', '35', '20.6', '$7500.0'], ['Sylvie Charles', '22', '22.1', '$3022.0'], ['Vinay Padilla', '24', '26.9', '$4620.0'], ['Meredith Santiago', '51', '29.3', '$16330.0'], ['Andre Mccarty', '19', '22.7', '$2900.0'], ['Lorena Hodson', '65', '33.1', '$19370.0'], ['Isaac Vu', '34', '24.8', '$7045.0']]\n"
          ],
          "name": "stdout"
        }
      ]
    },
    {
      "cell_type": "code",
      "metadata": {
        "id": "mfrTeO_fv7YU",
        "outputId": "f2962cb5-0759-4686-ee08-ee463896cb35",
        "colab": {
          "base_uri": "https://localhost:8080/",
          "height": 357
        }
      },
      "source": [
        "# Show names\n",
        "for record in medical_records_clean:\n",
        "  print(record[0])\n",
        "\n",
        "# Show names uppercase\n",
        "for record in medical_records_clean:\n",
        "  record[0] = record[0].upper()\n",
        "  print(record[0])"
      ],
      "execution_count": 10,
      "outputs": [
        {
          "output_type": "stream",
          "text": [
            "Marina Allison\n",
            "Markus Valdez\n",
            "Connie Ballard\n",
            "Darnell Weber\n",
            "Sylvie Charles\n",
            "Vinay Padilla\n",
            "Meredith Santiago\n",
            "Andre Mccarty\n",
            "Lorena Hodson\n",
            "Isaac Vu\n",
            "MARINA ALLISON\n",
            "MARKUS VALDEZ\n",
            "CONNIE BALLARD\n",
            "DARNELL WEBER\n",
            "SYLVIE CHARLES\n",
            "VINAY PADILLA\n",
            "MEREDITH SANTIAGO\n",
            "ANDRE MCCARTY\n",
            "LORENA HODSON\n",
            "ISAAC VU\n"
          ],
          "name": "stdout"
        }
      ]
    },
    {
      "cell_type": "code",
      "metadata": {
        "id": "UwPIjvrFvrL6",
        "outputId": "ae50dd5f-ac14-4bcd-87e1-f73ba2cbb709",
        "colab": {
          "base_uri": "https://localhost:8080/",
          "height": 105
        }
      },
      "source": [
        "# Organize data\n",
        "names = []\n",
        "ages = []\n",
        "bmis = []\n",
        "insurance_costs = []\n",
        "\n",
        "for record in medical_records_clean:\n",
        "  # append the name, age, BMI, and insurance cost from the current medical record \n",
        "  names.append(record[0])\n",
        "  ages.append(record[1])\n",
        "  bmis.append(record[2])\n",
        "  insurance_costs.append(record[3])\n",
        "\n",
        "print(\"Names: \" + str(names))\n",
        "print(\"Ages: \" + str(ages))\n",
        "print(\"BMI: \"  + str(bmis))\n",
        "print(\"Insurance Costs: \" + str(insurance_costs))"
      ],
      "execution_count": 11,
      "outputs": [
        {
          "output_type": "stream",
          "text": [
            "Names: ['MARINA ALLISON', 'MARKUS VALDEZ', 'CONNIE BALLARD', 'DARNELL WEBER', 'SYLVIE CHARLES', 'VINAY PADILLA', 'MEREDITH SANTIAGO', 'ANDRE MCCARTY', 'LORENA HODSON', 'ISAAC VU']\n",
            "Ages: ['27', '30', '43', '35', '22', '24', '51', '19', '65', '34']\n",
            "BMI: ['31.1', '22.4', '25.3', '20.6', '22.1', '26.9', '29.3', '22.7', '33.1', '24.8']\n",
            "Insurance Costs: ['$7010.0', '$4050.0', '$12060.0', '$7500.0', '$3022.0', '$4620.0', '$16330.0', '$2900.0', '$19370.0', '$7045.0']\n"
          ],
          "name": "stdout"
        }
      ]
    },
    {
      "cell_type": "code",
      "metadata": {
        "id": "c3bQQZX6wNwZ",
        "outputId": "9856807e-0490-4074-cbd2-2382a2576745",
        "colab": {
          "base_uri": "https://localhost:8080/",
          "height": 34
        }
      },
      "source": [
        "# Calculate average BMI\n",
        "total_bmi = 0\n",
        "\n",
        "for bmi in bmis:\n",
        "  total_bmi += float(bmi)\n",
        "\n",
        "average_bmi = total_bmi/len(bmis)\n",
        "print(\"Average BMI: \" + str(average_bmi))"
      ],
      "execution_count": 12,
      "outputs": [
        {
          "output_type": "stream",
          "text": [
            "Average BMI: 25.830000000000002\n"
          ],
          "name": "stdout"
        }
      ]
    }
  ]
}
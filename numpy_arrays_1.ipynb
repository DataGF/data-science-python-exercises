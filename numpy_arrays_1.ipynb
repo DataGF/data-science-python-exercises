{
  "nbformat": 4,
  "nbformat_minor": 0,
  "metadata": {
    "colab": {
      "name": "numpy-arrays-1.ipynb",
      "provenance": [],
      "authorship_tag": "ABX9TyNGWuvz7LKCeOLhLN233yl9",
      "include_colab_link": true
    },
    "kernelspec": {
      "name": "python3",
      "display_name": "Python 3"
    }
  },
  "cells": [
    {
      "cell_type": "markdown",
      "metadata": {
        "id": "view-in-github",
        "colab_type": "text"
      },
      "source": [
        "<a href=\"https://colab.research.google.com/github/DataGF/data-science-python-exercises/blob/master/numpy_arrays_1.ipynb\" target=\"_parent\"><img src=\"https://colab.research.google.com/assets/colab-badge.svg\" alt=\"Open In Colab\"/></a>"
      ]
    },
    {
      "cell_type": "markdown",
      "metadata": {
        "id": "GfvVtE-GCElP",
        "colab_type": "text"
      },
      "source": [
        "#NumPy Arrays\n",
        "\n",
        "How to initialize NumPy arrays  \n",
        "Create several NumPy arrays"
      ]
    },
    {
      "cell_type": "code",
      "metadata": {
        "id": "jxWsPrkRCC7u",
        "colab_type": "code",
        "colab": {
          "base_uri": "https://localhost:8080/",
          "height": 51
        },
        "outputId": "a7803f9d-848b-451d-e002-b261c3eb583e"
      },
      "source": [
        "# import numpy\n",
        "\n",
        "import numpy as np\n",
        "\n",
        "# create first array with the np.array() function\n",
        "# assign float32 data type for its elements\n",
        "# print the arry with the repr() function\n",
        "\n",
        "arr = np.array([[10, 11, 12], [13, 14, 15]], dtype=np.float32)\n",
        "print(repr(arr))"
      ],
      "execution_count": 1,
      "outputs": [
        {
          "output_type": "stream",
          "text": [
            "array([[10., 11., 12.],\n",
            "       [13., 14., 15.]], dtype=float32)\n"
          ],
          "name": "stdout"
        }
      ]
    },
    {
      "cell_type": "code",
      "metadata": {
        "id": "tF4EnZbMDnqF",
        "colab_type": "code",
        "colab": {
          "base_uri": "https://localhost:8080/",
          "height": 34
        },
        "outputId": "a02dbc3b-804b-4e99-e879-cafd7a4303bb"
      },
      "source": [
        "# integers are cast to their floating-point equivalents by default with np.array() function\n",
        "arr = np.array([10, 11.1, 222])\n",
        "print(repr(arr))"
      ],
      "execution_count": 2,
      "outputs": [
        {
          "output_type": "stream",
          "text": [
            "array([ 10. ,  11.1, 222. ])\n"
          ],
          "name": "stdout"
        }
      ]
    },
    {
      "cell_type": "code",
      "metadata": {
        "id": "g2zVgQH4EIR7",
        "colab_type": "code",
        "colab": {
          "base_uri": "https://localhost:8080/",
          "height": 102
        },
        "outputId": "19c49aa8-0220-4ed0-c699-3d90f393621e"
      },
      "source": [
        "# the difference between referencing and copying a array with the copy() function\n",
        "a = np.array([110, 23])\n",
        "b = np.array([91, 81])\n",
        "\n",
        "# c is reference to a\n",
        "c = a\n",
        "\n",
        "# the changes made in c is referenced to a as well\n",
        "print('Array a: {}'.format(repr(a)))\n",
        "c[0] = 58\n",
        "print('Array a: {}'.format(repr(a)))\n",
        "print('Array c: {}'.format(repr(c)))\n",
        "\n",
        "# d is a copy of b, but not its reference\n",
        "d = b.copy()\n",
        "d[0] = 99\n",
        "\n",
        "# the changes made in d is not referenced to b with this method\n",
        "print('Array b: {}'.format(repr(b)))\n",
        "print('Array d: {}'.format(repr(d)))"
      ],
      "execution_count": 3,
      "outputs": [
        {
          "output_type": "stream",
          "text": [
            "Array a: array([110,  23])\n",
            "Array a: array([58, 23])\n",
            "Array c: array([58, 23])\n",
            "Array b: array([91, 81])\n",
            "Array d: array([99, 81])\n"
          ],
          "name": "stdout"
        }
      ]
    },
    {
      "cell_type": "code",
      "metadata": {
        "id": "SDrUufrbGOa1",
        "colab_type": "code",
        "colab": {
          "base_uri": "https://localhost:8080/",
          "height": 51
        },
        "outputId": "73cd1c19-df36-457c-fe73-60d23420b2be"
      },
      "source": [
        "# casting array data type with astype() function\n",
        "arr = np.array([0, 1, 2])\n",
        "print(arr.dtype)\n",
        "arr = arr.astype(np.float32)\n",
        "print(arr.dtype)"
      ],
      "execution_count": 4,
      "outputs": [
        {
          "output_type": "stream",
          "text": [
            "int64\n",
            "float32\n"
          ],
          "name": "stdout"
        }
      ]
    },
    {
      "cell_type": "code",
      "metadata": {
        "id": "GJ8OiypMGjW9",
        "colab_type": "code",
        "colab": {
          "base_uri": "https://localhost:8080/",
          "height": 231
        },
        "outputId": "7c6a9bb1-244c-42df-9904-793cf91eee26"
      },
      "source": [
        "# np.nan is a common filter value for incomplete data\n",
        "arr = np.array([np.nan, 1, 2])\n",
        "print(repr(arr))\n",
        "\n",
        "arr = np.array([np.nan, 'abc'])\n",
        "print(repr(arr))\n",
        "\n",
        "# result in a ValueError, np.nan can't take integer type\n",
        "np.array([np.nan, 1, 2], dtype=np.int32)"
      ],
      "execution_count": 5,
      "outputs": [
        {
          "output_type": "stream",
          "text": [
            "array([nan,  1.,  2.])\n",
            "array(['nan', 'abc'], dtype='<U32')\n"
          ],
          "name": "stdout"
        },
        {
          "output_type": "error",
          "ename": "ValueError",
          "evalue": "ignored",
          "traceback": [
            "\u001b[0;31m---------------------------------------------------------------------------\u001b[0m",
            "\u001b[0;31mValueError\u001b[0m                                Traceback (most recent call last)",
            "\u001b[0;32m<ipython-input-5-8b1e29437be8>\u001b[0m in \u001b[0;36m<module>\u001b[0;34m()\u001b[0m\n\u001b[1;32m      7\u001b[0m \u001b[0;34m\u001b[0m\u001b[0m\n\u001b[1;32m      8\u001b[0m \u001b[0;31m# result in a ValueError, np.nan can't take integer type\u001b[0m\u001b[0;34m\u001b[0m\u001b[0;34m\u001b[0m\u001b[0;34m\u001b[0m\u001b[0m\n\u001b[0;32m----> 9\u001b[0;31m \u001b[0mnp\u001b[0m\u001b[0;34m.\u001b[0m\u001b[0marray\u001b[0m\u001b[0;34m(\u001b[0m\u001b[0;34m[\u001b[0m\u001b[0mnp\u001b[0m\u001b[0;34m.\u001b[0m\u001b[0mnan\u001b[0m\u001b[0;34m,\u001b[0m \u001b[0;36m1\u001b[0m\u001b[0;34m,\u001b[0m \u001b[0;36m2\u001b[0m\u001b[0;34m]\u001b[0m\u001b[0;34m,\u001b[0m \u001b[0mdtype\u001b[0m\u001b[0;34m=\u001b[0m\u001b[0mnp\u001b[0m\u001b[0;34m.\u001b[0m\u001b[0mint32\u001b[0m\u001b[0;34m)\u001b[0m\u001b[0;34m\u001b[0m\u001b[0;34m\u001b[0m\u001b[0m\n\u001b[0m",
            "\u001b[0;31mValueError\u001b[0m: cannot convert float NaN to integer"
          ]
        }
      ]
    },
    {
      "cell_type": "code",
      "metadata": {
        "id": "43kQMB73HFYB",
        "colab_type": "code",
        "colab": {
          "base_uri": "https://localhost:8080/",
          "height": 248
        },
        "outputId": "f70ee0c9-c54e-4926-89a8-ae9f808a676c"
      },
      "source": [
        "# infinity in python with the np.inf special value\n",
        "print(np.inf > 999999999999999999999)\n",
        "\n",
        "arr = np.array([np.inf, 5])\n",
        "print(repr(arr))\n",
        "\n",
        "arr = np.array([-np.inf, 1])\n",
        "print(repr(arr))\n",
        "\n",
        "# result in an OverflowError, np.inf can't take integer type\n",
        "np.array([np.inf, 3], dtype=np.int32)"
      ],
      "execution_count": 6,
      "outputs": [
        {
          "output_type": "stream",
          "text": [
            "True\n",
            "array([inf,  5.])\n",
            "array([-inf,   1.])\n"
          ],
          "name": "stdout"
        },
        {
          "output_type": "error",
          "ename": "OverflowError",
          "evalue": "ignored",
          "traceback": [
            "\u001b[0;31m---------------------------------------------------------------------------\u001b[0m",
            "\u001b[0;31mOverflowError\u001b[0m                             Traceback (most recent call last)",
            "\u001b[0;32m<ipython-input-6-654ec3e3eef3>\u001b[0m in \u001b[0;36m<module>\u001b[0;34m()\u001b[0m\n\u001b[1;32m      9\u001b[0m \u001b[0;34m\u001b[0m\u001b[0m\n\u001b[1;32m     10\u001b[0m \u001b[0;31m# result in an OverflowError, np.inf can't take integer type\u001b[0m\u001b[0;34m\u001b[0m\u001b[0;34m\u001b[0m\u001b[0;34m\u001b[0m\u001b[0m\n\u001b[0;32m---> 11\u001b[0;31m \u001b[0mnp\u001b[0m\u001b[0;34m.\u001b[0m\u001b[0marray\u001b[0m\u001b[0;34m(\u001b[0m\u001b[0;34m[\u001b[0m\u001b[0mnp\u001b[0m\u001b[0;34m.\u001b[0m\u001b[0minf\u001b[0m\u001b[0;34m,\u001b[0m \u001b[0;36m3\u001b[0m\u001b[0;34m]\u001b[0m\u001b[0;34m,\u001b[0m \u001b[0mdtype\u001b[0m\u001b[0;34m=\u001b[0m\u001b[0mnp\u001b[0m\u001b[0;34m.\u001b[0m\u001b[0mint32\u001b[0m\u001b[0;34m)\u001b[0m\u001b[0;34m\u001b[0m\u001b[0;34m\u001b[0m\u001b[0m\n\u001b[0m",
            "\u001b[0;31mOverflowError\u001b[0m: cannot convert float infinity to integer"
          ]
        }
      ]
    }
  ]
}
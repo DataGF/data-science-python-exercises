{
  "nbformat": 4,
  "nbformat_minor": 0,
  "metadata": {
    "colab": {
      "name": "Conditional Statements Examples with Python.ipynb",
      "provenance": [],
      "authorship_tag": "ABX9TyNfcbzd4eGe49O3tYyp4Ilr",
      "include_colab_link": true
    },
    "kernelspec": {
      "name": "python3",
      "display_name": "Python 3"
    }
  },
  "cells": [
    {
      "cell_type": "markdown",
      "metadata": {
        "id": "view-in-github",
        "colab_type": "text"
      },
      "source": [
        "<a href=\"https://colab.research.google.com/github/DataGF/data-science-python-exercises/blob/master/Conditional_Statements_Examples_with_Python.ipynb\" target=\"_parent\"><img src=\"https://colab.research.google.com/assets/colab-badge.svg\" alt=\"Open In Colab\"/></a>"
      ]
    },
    {
      "cell_type": "markdown",
      "metadata": {
        "id": "ThU2oVHGmA4F"
      },
      "source": [
        "# Take a variable x and print \"The number is divisible by 2\" if x is even, otherwise print \"The number is not divisible by 2\"."
      ]
    },
    {
      "cell_type": "code",
      "metadata": {
        "id": "RFVypIpPl6Nk"
      },
      "source": [
        "x = int(input('Enter with a positive integer: '))\r\n",
        "\r\n",
        "if (x % 2 == 0):\r\n",
        "    print('The number is divisible by 2')\r\n",
        "else:\r\n",
        "    print('The number is not divisible by 2')\r\n",
        "    "
      ],
      "execution_count": null,
      "outputs": []
    },
    {
      "cell_type": "markdown",
      "metadata": {
        "id": "buopBMzQp3ch"
      },
      "source": [
        "# Take a variable y and print \"Grade A\" if y is greater than 90, \"Grade B\" if y is greater than 60 but less than or equal to 90, \"Grade C\" if y is greater than 40 but less or equal to 60, \"Grade D\" if y is greater than 20 bu les or equal than 40 and \"Grade E\" otherwise."
      ]
    },
    {
      "cell_type": "code",
      "metadata": {
        "id": "9iz305X7mzSV"
      },
      "source": [
        "y = int(input('Grade: '))\r\n",
        "\r\n",
        "if (y > 90):\r\n",
        "    print('Grade A')\r\n",
        "elif (y > 60 and y <= 90):\r\n",
        "    print('Grade B')\r\n",
        "elif (y > 40 and y <= 60):\r\n",
        "    print('Grade C')\r\n",
        "elif (y > 20 and y <= 40):\r\n",
        "    print('Grade D')\r\n",
        "else:\r\n",
        "    print('Grade E')\r\n",
        "    "
      ],
      "execution_count": null,
      "outputs": []
    }
  ]
}
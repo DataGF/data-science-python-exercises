{
  "nbformat": 4,
  "nbformat_minor": 0,
  "metadata": {
    "colab": {
      "name": "data-science-process.ipynb",
      "provenance": [],
      "authorship_tag": "ABX9TyMigd4hwmFD46rzD93ZV0v9",
      "include_colab_link": true
    },
    "kernelspec": {
      "name": "python3",
      "display_name": "Python 3"
    }
  },
  "cells": [
    {
      "cell_type": "markdown",
      "metadata": {
        "id": "view-in-github",
        "colab_type": "text"
      },
      "source": [
        "<a href=\"https://colab.research.google.com/github/DataGF/data-science-python-exercises/blob/master/data_science_process.ipynb\" target=\"_parent\"><img src=\"https://colab.research.google.com/assets/colab-badge.svg\" alt=\"Open In Colab\"/></a>"
      ]
    },
    {
      "cell_type": "markdown",
      "metadata": {
        "id": "ljHhB2omE9Qw"
      },
      "source": [
        "# 1. Come up with a Question\n",
        "Do younger users tend to live in bigger cities and do older users live in smaller cities?"
      ]
    },
    {
      "cell_type": "markdown",
      "metadata": {
        "id": "sysvKj9qFFP3"
      },
      "source": [
        "# 2. Determine the Necessary Data"
      ]
    },
    {
      "cell_type": "code",
      "metadata": {
        "id": "P_OR0KKvDF-S",
        "outputId": "351c3d63-2c74-4ab7-99d1-5b15b2698ea4",
        "colab": {
          "base_uri": "https://localhost:8080/",
          "height": 119
        }
      },
      "source": [
        "# Import modules:\n",
        "import pandas as pd\n",
        "import numpy as np\n",
        "import warnings\n",
        "warnings.filterwarnings('ignore')\n",
        "\n",
        "# Import the data:\n",
        "user_data = pd.read_csv(\"user_data.csv\")\n",
        "\n",
        "# Create age variable and find population mean:\n",
        "population_mean = np.mean(user_data[\"age\"])\n",
        "\n",
        "# Select increasingly larger samples:\n",
        "extra_small_sample = user_data[\"age\"][:10]\n",
        "small_sample = user_data[\"age\"][:50]\n",
        "medium_sample = user_data[\"age\"][:100]\n",
        "large_sample = user_data[\"age\"][:200]\n",
        "\n",
        "# Calculate the mean of those samples:\n",
        "extra_small_sample_mean = np.mean(extra_small_sample)\n",
        "small_sample_mean = np.mean(small_sample)\n",
        "medium_sample_mean = np.mean(medium_sample)\n",
        "large_sample_mean = np.mean(large_sample)\n",
        "\n",
        "# Print them all out!\n",
        "print (\"Extra Small Sample Mean: \" + str(extra_small_sample_mean))\n",
        "print (\"Small Sample Mean: \" + str(small_sample_mean))\n",
        "print (\"Medium Sample Mean: \" + str(medium_sample_mean))\n",
        "print (\"Large Sample Mean: \" + str(large_sample_mean))\n",
        "\n",
        "\n",
        "print (\"\\nPopulation Mean: \"+ str(population_mean))"
      ],
      "execution_count": 19,
      "outputs": [
        {
          "output_type": "stream",
          "text": [
            "Extra Small Sample Mean: 29.0\n",
            "Small Sample Mean: 29.24\n",
            "Medium Sample Mean: 29.04\n",
            "Large Sample Mean: 29.35\n",
            "\n",
            "Population Mean: 29.427860696517413\n"
          ],
          "name": "stdout"
        }
      ]
    },
    {
      "cell_type": "markdown",
      "metadata": {
        "id": "qe5aJ7n8FRwl"
      },
      "source": [
        "# 3. Get the Data\n",
        "You can download the datasets at this directory."
      ]
    },
    {
      "cell_type": "markdown",
      "metadata": {
        "id": "9IvNqRF4FYJm"
      },
      "source": [
        "# 4. Clean the Data"
      ]
    },
    {
      "cell_type": "code",
      "metadata": {
        "id": "5lI5_AniFVdv",
        "outputId": "97b5b689-2681-42a9-91dc-33cfa63eea2c",
        "colab": {
          "base_uri": "https://localhost:8080/",
          "height": 204
        }
      },
      "source": [
        "# Import the data:\n",
        "pop_data = pd.read_csv(\"us_cities_small.csv\")\n",
        "\n",
        "# Look at the current pop_data DataFrame:\n",
        "pop_data.head()"
      ],
      "execution_count": 20,
      "outputs": [
        {
          "output_type": "execute_result",
          "data": {
            "text/html": [
              "<div>\n",
              "<style scoped>\n",
              "    .dataframe tbody tr th:only-of-type {\n",
              "        vertical-align: middle;\n",
              "    }\n",
              "\n",
              "    .dataframe tbody tr th {\n",
              "        vertical-align: top;\n",
              "    }\n",
              "\n",
              "    .dataframe thead th {\n",
              "        text-align: right;\n",
              "    }\n",
              "</style>\n",
              "<table border=\"1\" class=\"dataframe\">\n",
              "  <thead>\n",
              "    <tr style=\"text-align: right;\">\n",
              "      <th></th>\n",
              "      <th>city</th>\n",
              "      <th>population_proper</th>\n",
              "    </tr>\n",
              "  </thead>\n",
              "  <tbody>\n",
              "    <tr>\n",
              "      <th>0</th>\n",
              "      <td>Prairie Ridge, WA</td>\n",
              "      <td>NaN</td>\n",
              "    </tr>\n",
              "    <tr>\n",
              "      <th>1</th>\n",
              "      <td>Edison, WA</td>\n",
              "      <td>NaN</td>\n",
              "    </tr>\n",
              "    <tr>\n",
              "      <th>2</th>\n",
              "      <td>Packwood, WA</td>\n",
              "      <td>NaN</td>\n",
              "    </tr>\n",
              "    <tr>\n",
              "      <th>3</th>\n",
              "      <td>Wautauga Beach, WA</td>\n",
              "      <td>NaN</td>\n",
              "    </tr>\n",
              "    <tr>\n",
              "      <th>4</th>\n",
              "      <td>Harper, WA</td>\n",
              "      <td>NaN</td>\n",
              "    </tr>\n",
              "  </tbody>\n",
              "</table>\n",
              "</div>"
            ],
            "text/plain": [
              "                 city  population_proper\n",
              "0   Prairie Ridge, WA                NaN\n",
              "1          Edison, WA                NaN\n",
              "2        Packwood, WA                NaN\n",
              "3  Wautauga Beach, WA                NaN\n",
              "4          Harper, WA                NaN"
            ]
          },
          "metadata": {
            "tags": []
          },
          "execution_count": 20
        }
      ]
    },
    {
      "cell_type": "code",
      "metadata": {
        "id": "p1NQ2esrGyBQ",
        "outputId": "a25fcf9b-5135-4ad6-acab-cc63bb017d99",
        "colab": {
          "base_uri": "https://localhost:8080/",
          "height": 204
        }
      },
      "source": [
        "# Look at the current user_data DataFrame:\n",
        "user_data.head()"
      ],
      "execution_count": 21,
      "outputs": [
        {
          "output_type": "execute_result",
          "data": {
            "text/html": [
              "<div>\n",
              "<style scoped>\n",
              "    .dataframe tbody tr th:only-of-type {\n",
              "        vertical-align: middle;\n",
              "    }\n",
              "\n",
              "    .dataframe tbody tr th {\n",
              "        vertical-align: top;\n",
              "    }\n",
              "\n",
              "    .dataframe thead th {\n",
              "        text-align: right;\n",
              "    }\n",
              "</style>\n",
              "<table border=\"1\" class=\"dataframe\">\n",
              "  <thead>\n",
              "    <tr style=\"text-align: right;\">\n",
              "      <th></th>\n",
              "      <th>city</th>\n",
              "      <th>education</th>\n",
              "      <th>age</th>\n",
              "    </tr>\n",
              "  </thead>\n",
              "  <tbody>\n",
              "    <tr>\n",
              "      <th>0</th>\n",
              "      <td>Brooklyn, NY</td>\n",
              "      <td>college</td>\n",
              "      <td>31</td>\n",
              "    </tr>\n",
              "    <tr>\n",
              "      <th>1</th>\n",
              "      <td>Brooklyn, NY</td>\n",
              "      <td>graduate degree</td>\n",
              "      <td>31</td>\n",
              "    </tr>\n",
              "    <tr>\n",
              "      <th>2</th>\n",
              "      <td>Brooklyn, NY</td>\n",
              "      <td>graduate degree</td>\n",
              "      <td>32</td>\n",
              "    </tr>\n",
              "    <tr>\n",
              "      <th>3</th>\n",
              "      <td>Brooklyn, NY</td>\n",
              "      <td>college</td>\n",
              "      <td>37</td>\n",
              "    </tr>\n",
              "    <tr>\n",
              "      <th>4</th>\n",
              "      <td>Brooklyn, NY</td>\n",
              "      <td>college</td>\n",
              "      <td>21</td>\n",
              "    </tr>\n",
              "  </tbody>\n",
              "</table>\n",
              "</div>"
            ],
            "text/plain": [
              "           city        education  age\n",
              "0  Brooklyn, NY          college   31\n",
              "1  Brooklyn, NY  graduate degree   31\n",
              "2  Brooklyn, NY  graduate degree   32\n",
              "3  Brooklyn, NY          college   37\n",
              "4  Brooklyn, NY          college   21"
            ]
          },
          "metadata": {
            "tags": []
          },
          "execution_count": 21
        }
      ]
    },
    {
      "cell_type": "code",
      "metadata": {
        "id": "gH63yreJG3h0",
        "outputId": "6b07ba01-a11a-4289-9e95-1a00b4896c4e",
        "colab": {
          "base_uri": "https://localhost:8080/",
          "height": 359
        }
      },
      "source": [
        "# Merge the two datasets on the city column:\n",
        "\n",
        "new_df = pd.merge(user_data, pop_data)\n",
        "new_df.head(10)"
      ],
      "execution_count": 22,
      "outputs": [
        {
          "output_type": "execute_result",
          "data": {
            "text/html": [
              "<div>\n",
              "<style scoped>\n",
              "    .dataframe tbody tr th:only-of-type {\n",
              "        vertical-align: middle;\n",
              "    }\n",
              "\n",
              "    .dataframe tbody tr th {\n",
              "        vertical-align: top;\n",
              "    }\n",
              "\n",
              "    .dataframe thead th {\n",
              "        text-align: right;\n",
              "    }\n",
              "</style>\n",
              "<table border=\"1\" class=\"dataframe\">\n",
              "  <thead>\n",
              "    <tr style=\"text-align: right;\">\n",
              "      <th></th>\n",
              "      <th>city</th>\n",
              "      <th>education</th>\n",
              "      <th>age</th>\n",
              "      <th>population_proper</th>\n",
              "    </tr>\n",
              "  </thead>\n",
              "  <tbody>\n",
              "    <tr>\n",
              "      <th>0</th>\n",
              "      <td>Brooklyn, NY</td>\n",
              "      <td>college</td>\n",
              "      <td>31</td>\n",
              "      <td>2629150.0</td>\n",
              "    </tr>\n",
              "    <tr>\n",
              "      <th>1</th>\n",
              "      <td>Brooklyn, NY</td>\n",
              "      <td>graduate degree</td>\n",
              "      <td>31</td>\n",
              "      <td>2629150.0</td>\n",
              "    </tr>\n",
              "    <tr>\n",
              "      <th>2</th>\n",
              "      <td>Brooklyn, NY</td>\n",
              "      <td>graduate degree</td>\n",
              "      <td>32</td>\n",
              "      <td>2629150.0</td>\n",
              "    </tr>\n",
              "    <tr>\n",
              "      <th>3</th>\n",
              "      <td>Brooklyn, NY</td>\n",
              "      <td>college</td>\n",
              "      <td>37</td>\n",
              "      <td>2629150.0</td>\n",
              "    </tr>\n",
              "    <tr>\n",
              "      <th>4</th>\n",
              "      <td>Brooklyn, NY</td>\n",
              "      <td>college</td>\n",
              "      <td>21</td>\n",
              "      <td>2629150.0</td>\n",
              "    </tr>\n",
              "    <tr>\n",
              "      <th>5</th>\n",
              "      <td>Austin, TX</td>\n",
              "      <td>college</td>\n",
              "      <td>25</td>\n",
              "      <td>947890.0</td>\n",
              "    </tr>\n",
              "    <tr>\n",
              "      <th>6</th>\n",
              "      <td>Austin, TX</td>\n",
              "      <td>graduate degree</td>\n",
              "      <td>22</td>\n",
              "      <td>947890.0</td>\n",
              "    </tr>\n",
              "    <tr>\n",
              "      <th>7</th>\n",
              "      <td>Oakland, CA</td>\n",
              "      <td>graduate degree</td>\n",
              "      <td>29</td>\n",
              "      <td>420005.0</td>\n",
              "    </tr>\n",
              "    <tr>\n",
              "      <th>8</th>\n",
              "      <td>Pittsburgh, PA</td>\n",
              "      <td>college</td>\n",
              "      <td>29</td>\n",
              "      <td>303625.0</td>\n",
              "    </tr>\n",
              "    <tr>\n",
              "      <th>9</th>\n",
              "      <td>Pittsburgh, PA</td>\n",
              "      <td>college</td>\n",
              "      <td>27</td>\n",
              "      <td>303625.0</td>\n",
              "    </tr>\n",
              "  </tbody>\n",
              "</table>\n",
              "</div>"
            ],
            "text/plain": [
              "             city        education  age  population_proper\n",
              "0    Brooklyn, NY          college   31          2629150.0\n",
              "1    Brooklyn, NY  graduate degree   31          2629150.0\n",
              "2    Brooklyn, NY  graduate degree   32          2629150.0\n",
              "3    Brooklyn, NY          college   37          2629150.0\n",
              "4    Brooklyn, NY          college   21          2629150.0\n",
              "5      Austin, TX          college   25           947890.0\n",
              "6      Austin, TX  graduate degree   22           947890.0\n",
              "7     Oakland, CA  graduate degree   29           420005.0\n",
              "8  Pittsburgh, PA          college   29           303625.0\n",
              "9  Pittsburgh, PA          college   27           303625.0"
            ]
          },
          "metadata": {
            "tags": []
          },
          "execution_count": 22
        }
      ]
    },
    {
      "cell_type": "code",
      "metadata": {
        "id": "pFzn1xSUG7I0",
        "outputId": "8a1f98de-6885-4d0a-b19e-3f11e00b7b05",
        "colab": {
          "base_uri": "https://localhost:8080/",
          "height": 669
        }
      },
      "source": [
        "# Write a logic statement that determines if a location is \"rural\" or \"urban\":\n",
        "new_df.loc[new_df.population_proper < 100000, \"location\"] = \"rural\"\n",
        "new_df.loc[new_df.population_proper >= 100000, \"location\"] = \"urban\"\n",
        "\n",
        "# look at the new DataFrame:\n",
        "new_df.head(20)"
      ],
      "execution_count": 23,
      "outputs": [
        {
          "output_type": "execute_result",
          "data": {
            "text/html": [
              "<div>\n",
              "<style scoped>\n",
              "    .dataframe tbody tr th:only-of-type {\n",
              "        vertical-align: middle;\n",
              "    }\n",
              "\n",
              "    .dataframe tbody tr th {\n",
              "        vertical-align: top;\n",
              "    }\n",
              "\n",
              "    .dataframe thead th {\n",
              "        text-align: right;\n",
              "    }\n",
              "</style>\n",
              "<table border=\"1\" class=\"dataframe\">\n",
              "  <thead>\n",
              "    <tr style=\"text-align: right;\">\n",
              "      <th></th>\n",
              "      <th>city</th>\n",
              "      <th>education</th>\n",
              "      <th>age</th>\n",
              "      <th>population_proper</th>\n",
              "      <th>location</th>\n",
              "    </tr>\n",
              "  </thead>\n",
              "  <tbody>\n",
              "    <tr>\n",
              "      <th>0</th>\n",
              "      <td>Brooklyn, NY</td>\n",
              "      <td>college</td>\n",
              "      <td>31</td>\n",
              "      <td>2629150.0</td>\n",
              "      <td>urban</td>\n",
              "    </tr>\n",
              "    <tr>\n",
              "      <th>1</th>\n",
              "      <td>Brooklyn, NY</td>\n",
              "      <td>graduate degree</td>\n",
              "      <td>31</td>\n",
              "      <td>2629150.0</td>\n",
              "      <td>urban</td>\n",
              "    </tr>\n",
              "    <tr>\n",
              "      <th>2</th>\n",
              "      <td>Brooklyn, NY</td>\n",
              "      <td>graduate degree</td>\n",
              "      <td>32</td>\n",
              "      <td>2629150.0</td>\n",
              "      <td>urban</td>\n",
              "    </tr>\n",
              "    <tr>\n",
              "      <th>3</th>\n",
              "      <td>Brooklyn, NY</td>\n",
              "      <td>college</td>\n",
              "      <td>37</td>\n",
              "      <td>2629150.0</td>\n",
              "      <td>urban</td>\n",
              "    </tr>\n",
              "    <tr>\n",
              "      <th>4</th>\n",
              "      <td>Brooklyn, NY</td>\n",
              "      <td>college</td>\n",
              "      <td>21</td>\n",
              "      <td>2629150.0</td>\n",
              "      <td>urban</td>\n",
              "    </tr>\n",
              "    <tr>\n",
              "      <th>5</th>\n",
              "      <td>Austin, TX</td>\n",
              "      <td>college</td>\n",
              "      <td>25</td>\n",
              "      <td>947890.0</td>\n",
              "      <td>urban</td>\n",
              "    </tr>\n",
              "    <tr>\n",
              "      <th>6</th>\n",
              "      <td>Austin, TX</td>\n",
              "      <td>graduate degree</td>\n",
              "      <td>22</td>\n",
              "      <td>947890.0</td>\n",
              "      <td>urban</td>\n",
              "    </tr>\n",
              "    <tr>\n",
              "      <th>7</th>\n",
              "      <td>Oakland, CA</td>\n",
              "      <td>graduate degree</td>\n",
              "      <td>29</td>\n",
              "      <td>420005.0</td>\n",
              "      <td>urban</td>\n",
              "    </tr>\n",
              "    <tr>\n",
              "      <th>8</th>\n",
              "      <td>Pittsburgh, PA</td>\n",
              "      <td>college</td>\n",
              "      <td>29</td>\n",
              "      <td>303625.0</td>\n",
              "      <td>urban</td>\n",
              "    </tr>\n",
              "    <tr>\n",
              "      <th>9</th>\n",
              "      <td>Pittsburgh, PA</td>\n",
              "      <td>college</td>\n",
              "      <td>27</td>\n",
              "      <td>303625.0</td>\n",
              "      <td>urban</td>\n",
              "    </tr>\n",
              "    <tr>\n",
              "      <th>10</th>\n",
              "      <td>Pittsburgh, PA</td>\n",
              "      <td>graduate degree</td>\n",
              "      <td>28</td>\n",
              "      <td>303625.0</td>\n",
              "      <td>urban</td>\n",
              "    </tr>\n",
              "    <tr>\n",
              "      <th>11</th>\n",
              "      <td>Pittsburgh, PA</td>\n",
              "      <td>graduate degree</td>\n",
              "      <td>36</td>\n",
              "      <td>303625.0</td>\n",
              "      <td>urban</td>\n",
              "    </tr>\n",
              "    <tr>\n",
              "      <th>12</th>\n",
              "      <td>Ames, IA</td>\n",
              "      <td>college</td>\n",
              "      <td>31</td>\n",
              "      <td>66191.0</td>\n",
              "      <td>rural</td>\n",
              "    </tr>\n",
              "    <tr>\n",
              "      <th>13</th>\n",
              "      <td>Albany, NY</td>\n",
              "      <td>graduate degree</td>\n",
              "      <td>31</td>\n",
              "      <td>98111.0</td>\n",
              "      <td>rural</td>\n",
              "    </tr>\n",
              "    <tr>\n",
              "      <th>14</th>\n",
              "      <td>Lancaster, PA</td>\n",
              "      <td>college</td>\n",
              "      <td>31</td>\n",
              "      <td>59218.0</td>\n",
              "      <td>rural</td>\n",
              "    </tr>\n",
              "    <tr>\n",
              "      <th>15</th>\n",
              "      <td>Reno, NV</td>\n",
              "      <td>high school</td>\n",
              "      <td>31</td>\n",
              "      <td>245255.0</td>\n",
              "      <td>urban</td>\n",
              "    </tr>\n",
              "    <tr>\n",
              "      <th>16</th>\n",
              "      <td>Reno, NV</td>\n",
              "      <td>college</td>\n",
              "      <td>22</td>\n",
              "      <td>245255.0</td>\n",
              "      <td>urban</td>\n",
              "    </tr>\n",
              "    <tr>\n",
              "      <th>17</th>\n",
              "      <td>Houston, TX</td>\n",
              "      <td>high school</td>\n",
              "      <td>31</td>\n",
              "      <td>2303482.0</td>\n",
              "      <td>urban</td>\n",
              "    </tr>\n",
              "    <tr>\n",
              "      <th>18</th>\n",
              "      <td>Houston, TX</td>\n",
              "      <td>high school</td>\n",
              "      <td>21</td>\n",
              "      <td>2303482.0</td>\n",
              "      <td>urban</td>\n",
              "    </tr>\n",
              "    <tr>\n",
              "      <th>19</th>\n",
              "      <td>Houston, TX</td>\n",
              "      <td>graduate degree</td>\n",
              "      <td>26</td>\n",
              "      <td>2303482.0</td>\n",
              "      <td>urban</td>\n",
              "    </tr>\n",
              "  </tbody>\n",
              "</table>\n",
              "</div>"
            ],
            "text/plain": [
              "              city        education  age  population_proper location\n",
              "0     Brooklyn, NY          college   31          2629150.0    urban\n",
              "1     Brooklyn, NY  graduate degree   31          2629150.0    urban\n",
              "2     Brooklyn, NY  graduate degree   32          2629150.0    urban\n",
              "3     Brooklyn, NY          college   37          2629150.0    urban\n",
              "4     Brooklyn, NY          college   21          2629150.0    urban\n",
              "5       Austin, TX          college   25           947890.0    urban\n",
              "6       Austin, TX  graduate degree   22           947890.0    urban\n",
              "7      Oakland, CA  graduate degree   29           420005.0    urban\n",
              "8   Pittsburgh, PA          college   29           303625.0    urban\n",
              "9   Pittsburgh, PA          college   27           303625.0    urban\n",
              "10  Pittsburgh, PA  graduate degree   28           303625.0    urban\n",
              "11  Pittsburgh, PA  graduate degree   36           303625.0    urban\n",
              "12        Ames, IA          college   31            66191.0    rural\n",
              "13      Albany, NY  graduate degree   31            98111.0    rural\n",
              "14   Lancaster, PA          college   31            59218.0    rural\n",
              "15        Reno, NV      high school   31           245255.0    urban\n",
              "16        Reno, NV          college   22           245255.0    urban\n",
              "17     Houston, TX      high school   31          2303482.0    urban\n",
              "18     Houston, TX      high school   21          2303482.0    urban\n",
              "19     Houston, TX  graduate degree   26          2303482.0    urban"
            ]
          },
          "metadata": {
            "tags": []
          },
          "execution_count": 23
        }
      ]
    },
    {
      "cell_type": "code",
      "metadata": {
        "id": "QGDZdQflJHRF",
        "outputId": "94b9e869-2192-4bf1-9b4a-21f7aed16cf4",
        "colab": {
          "base_uri": "https://localhost:8080/",
          "height": 669
        }
      },
      "source": [
        "# Write a logic statement that determines if a location is \"rural\" or \"urban\":\n",
        "new_df.loc[new_df.population_proper < 100000, \"location\"] = \"rural\"\n",
        "new_df.loc[new_df.population_proper >= 100000, \"location\"] = \"urban\"\n",
        "\n",
        "# look at the new DataFrame:\n",
        "new_df.head(20)"
      ],
      "execution_count": 24,
      "outputs": [
        {
          "output_type": "execute_result",
          "data": {
            "text/html": [
              "<div>\n",
              "<style scoped>\n",
              "    .dataframe tbody tr th:only-of-type {\n",
              "        vertical-align: middle;\n",
              "    }\n",
              "\n",
              "    .dataframe tbody tr th {\n",
              "        vertical-align: top;\n",
              "    }\n",
              "\n",
              "    .dataframe thead th {\n",
              "        text-align: right;\n",
              "    }\n",
              "</style>\n",
              "<table border=\"1\" class=\"dataframe\">\n",
              "  <thead>\n",
              "    <tr style=\"text-align: right;\">\n",
              "      <th></th>\n",
              "      <th>city</th>\n",
              "      <th>education</th>\n",
              "      <th>age</th>\n",
              "      <th>population_proper</th>\n",
              "      <th>location</th>\n",
              "    </tr>\n",
              "  </thead>\n",
              "  <tbody>\n",
              "    <tr>\n",
              "      <th>0</th>\n",
              "      <td>Brooklyn, NY</td>\n",
              "      <td>college</td>\n",
              "      <td>31</td>\n",
              "      <td>2629150.0</td>\n",
              "      <td>urban</td>\n",
              "    </tr>\n",
              "    <tr>\n",
              "      <th>1</th>\n",
              "      <td>Brooklyn, NY</td>\n",
              "      <td>graduate degree</td>\n",
              "      <td>31</td>\n",
              "      <td>2629150.0</td>\n",
              "      <td>urban</td>\n",
              "    </tr>\n",
              "    <tr>\n",
              "      <th>2</th>\n",
              "      <td>Brooklyn, NY</td>\n",
              "      <td>graduate degree</td>\n",
              "      <td>32</td>\n",
              "      <td>2629150.0</td>\n",
              "      <td>urban</td>\n",
              "    </tr>\n",
              "    <tr>\n",
              "      <th>3</th>\n",
              "      <td>Brooklyn, NY</td>\n",
              "      <td>college</td>\n",
              "      <td>37</td>\n",
              "      <td>2629150.0</td>\n",
              "      <td>urban</td>\n",
              "    </tr>\n",
              "    <tr>\n",
              "      <th>4</th>\n",
              "      <td>Brooklyn, NY</td>\n",
              "      <td>college</td>\n",
              "      <td>21</td>\n",
              "      <td>2629150.0</td>\n",
              "      <td>urban</td>\n",
              "    </tr>\n",
              "    <tr>\n",
              "      <th>5</th>\n",
              "      <td>Austin, TX</td>\n",
              "      <td>college</td>\n",
              "      <td>25</td>\n",
              "      <td>947890.0</td>\n",
              "      <td>urban</td>\n",
              "    </tr>\n",
              "    <tr>\n",
              "      <th>6</th>\n",
              "      <td>Austin, TX</td>\n",
              "      <td>graduate degree</td>\n",
              "      <td>22</td>\n",
              "      <td>947890.0</td>\n",
              "      <td>urban</td>\n",
              "    </tr>\n",
              "    <tr>\n",
              "      <th>7</th>\n",
              "      <td>Oakland, CA</td>\n",
              "      <td>graduate degree</td>\n",
              "      <td>29</td>\n",
              "      <td>420005.0</td>\n",
              "      <td>urban</td>\n",
              "    </tr>\n",
              "    <tr>\n",
              "      <th>8</th>\n",
              "      <td>Pittsburgh, PA</td>\n",
              "      <td>college</td>\n",
              "      <td>29</td>\n",
              "      <td>303625.0</td>\n",
              "      <td>urban</td>\n",
              "    </tr>\n",
              "    <tr>\n",
              "      <th>9</th>\n",
              "      <td>Pittsburgh, PA</td>\n",
              "      <td>college</td>\n",
              "      <td>27</td>\n",
              "      <td>303625.0</td>\n",
              "      <td>urban</td>\n",
              "    </tr>\n",
              "    <tr>\n",
              "      <th>10</th>\n",
              "      <td>Pittsburgh, PA</td>\n",
              "      <td>graduate degree</td>\n",
              "      <td>28</td>\n",
              "      <td>303625.0</td>\n",
              "      <td>urban</td>\n",
              "    </tr>\n",
              "    <tr>\n",
              "      <th>11</th>\n",
              "      <td>Pittsburgh, PA</td>\n",
              "      <td>graduate degree</td>\n",
              "      <td>36</td>\n",
              "      <td>303625.0</td>\n",
              "      <td>urban</td>\n",
              "    </tr>\n",
              "    <tr>\n",
              "      <th>12</th>\n",
              "      <td>Ames, IA</td>\n",
              "      <td>college</td>\n",
              "      <td>31</td>\n",
              "      <td>66191.0</td>\n",
              "      <td>rural</td>\n",
              "    </tr>\n",
              "    <tr>\n",
              "      <th>13</th>\n",
              "      <td>Albany, NY</td>\n",
              "      <td>graduate degree</td>\n",
              "      <td>31</td>\n",
              "      <td>98111.0</td>\n",
              "      <td>rural</td>\n",
              "    </tr>\n",
              "    <tr>\n",
              "      <th>14</th>\n",
              "      <td>Lancaster, PA</td>\n",
              "      <td>college</td>\n",
              "      <td>31</td>\n",
              "      <td>59218.0</td>\n",
              "      <td>rural</td>\n",
              "    </tr>\n",
              "    <tr>\n",
              "      <th>15</th>\n",
              "      <td>Reno, NV</td>\n",
              "      <td>high school</td>\n",
              "      <td>31</td>\n",
              "      <td>245255.0</td>\n",
              "      <td>urban</td>\n",
              "    </tr>\n",
              "    <tr>\n",
              "      <th>16</th>\n",
              "      <td>Reno, NV</td>\n",
              "      <td>college</td>\n",
              "      <td>22</td>\n",
              "      <td>245255.0</td>\n",
              "      <td>urban</td>\n",
              "    </tr>\n",
              "    <tr>\n",
              "      <th>17</th>\n",
              "      <td>Houston, TX</td>\n",
              "      <td>high school</td>\n",
              "      <td>31</td>\n",
              "      <td>2303482.0</td>\n",
              "      <td>urban</td>\n",
              "    </tr>\n",
              "    <tr>\n",
              "      <th>18</th>\n",
              "      <td>Houston, TX</td>\n",
              "      <td>high school</td>\n",
              "      <td>21</td>\n",
              "      <td>2303482.0</td>\n",
              "      <td>urban</td>\n",
              "    </tr>\n",
              "    <tr>\n",
              "      <th>19</th>\n",
              "      <td>Houston, TX</td>\n",
              "      <td>graduate degree</td>\n",
              "      <td>26</td>\n",
              "      <td>2303482.0</td>\n",
              "      <td>urban</td>\n",
              "    </tr>\n",
              "  </tbody>\n",
              "</table>\n",
              "</div>"
            ],
            "text/plain": [
              "              city        education  age  population_proper location\n",
              "0     Brooklyn, NY          college   31          2629150.0    urban\n",
              "1     Brooklyn, NY  graduate degree   31          2629150.0    urban\n",
              "2     Brooklyn, NY  graduate degree   32          2629150.0    urban\n",
              "3     Brooklyn, NY          college   37          2629150.0    urban\n",
              "4     Brooklyn, NY          college   21          2629150.0    urban\n",
              "5       Austin, TX          college   25           947890.0    urban\n",
              "6       Austin, TX  graduate degree   22           947890.0    urban\n",
              "7      Oakland, CA  graduate degree   29           420005.0    urban\n",
              "8   Pittsburgh, PA          college   29           303625.0    urban\n",
              "9   Pittsburgh, PA          college   27           303625.0    urban\n",
              "10  Pittsburgh, PA  graduate degree   28           303625.0    urban\n",
              "11  Pittsburgh, PA  graduate degree   36           303625.0    urban\n",
              "12        Ames, IA          college   31            66191.0    rural\n",
              "13      Albany, NY  graduate degree   31            98111.0    rural\n",
              "14   Lancaster, PA          college   31            59218.0    rural\n",
              "15        Reno, NV      high school   31           245255.0    urban\n",
              "16        Reno, NV          college   22           245255.0    urban\n",
              "17     Houston, TX      high school   31          2303482.0    urban\n",
              "18     Houston, TX      high school   21          2303482.0    urban\n",
              "19     Houston, TX  graduate degree   26          2303482.0    urban"
            ]
          },
          "metadata": {
            "tags": []
          },
          "execution_count": 24
        }
      ]
    },
    {
      "cell_type": "markdown",
      "metadata": {
        "id": "PvRg360OJRWF"
      },
      "source": [
        "# 5. Explore the Data"
      ]
    },
    {
      "cell_type": "code",
      "metadata": {
        "id": "RBvjowzqJSkE",
        "outputId": "17a67084-c292-4594-9b32-ec3a1a3f6b59",
        "colab": {
          "base_uri": "https://localhost:8080/",
          "height": 279
        }
      },
      "source": [
        "# Plot a histogram that shows the distribution of ages in the dataset:\n",
        "\n",
        "age = new_df[\"age\"]\n",
        "sns.distplot(age)\n",
        "plt.show()"
      ],
      "execution_count": 25,
      "outputs": [
        {
          "output_type": "display_data",
          "data": {
            "image/png": "[encoded data removed]",
            "text/plain": [
              "<Figure size 432x288 with 1 Axes>"
            ]
          },
          "metadata": {
            "tags": [],
            "needs_background": "light"
          }
        }
      ]
    },
    {
      "cell_type": "code",
      "metadata": {
        "id": "vQys_BlzJ7uF",
        "outputId": "f5638191-dff6-423b-9202-2691b741c979",
        "colab": {
          "base_uri": "https://localhost:8080/",
          "height": 85
        }
      },
      "source": [
        "# Find the mean age of urban and rural users:\n",
        "\n",
        "location_mean_age = new_df.groupby('location').age.mean() # turns it into a series\n",
        "location_mean_age.head()"
      ],
      "execution_count": 26,
      "outputs": [
        {
          "output_type": "execute_result",
          "data": {
            "text/plain": [
              "location\n",
              "rural    31.142857\n",
              "urban    29.609195\n",
              "Name: age, dtype: float64"
            ]
          },
          "metadata": {
            "tags": []
          },
          "execution_count": 26
        }
      ]
    },
    {
      "cell_type": "code",
      "metadata": {
        "id": "LZY6-lROJ_ST",
        "outputId": "67c7e348-2dbb-4586-eb6d-b338158a0cfe",
        "colab": {
          "base_uri": "https://localhost:8080/",
          "height": 282
        }
      },
      "source": [
        "# Graph the age difference between rural and urban using a barplot:\n",
        "\n",
        "sns.barplot(\n",
        "\tdata=new_df,\n",
        "\tx= \"location\",\n",
        "\ty= \"age\"\n",
        ")\n",
        "\n",
        "plt.show()"
      ],
      "execution_count": 27,
      "outputs": [
        {
          "output_type": "display_data",
          "data": {
            "image/png": "[encoded data removed]",
            "text/plain": [
              "<Figure size 432x288 with 1 Axes>"
            ]
          },
          "metadata": {
            "tags": [],
            "needs_background": "light"
          }
        }
      ]
    },
    {
      "cell_type": "code",
      "metadata": {
        "id": "kj0iCnJrKEjr",
        "outputId": "bd17d1d5-0cd4-4cde-a030-4171ef228036",
        "colab": {
          "base_uri": "https://localhost:8080/",
          "height": 281
        }
      },
      "source": [
        "# Plot a violinplot, which shows the distribution of age in different locations:\n",
        "\n",
        "sns.violinplot(data=new_df, x=\"location\", y=\"age\")\n",
        "plt.show()"
      ],
      "execution_count": 28,
      "outputs": [
        {
          "output_type": "display_data",
          "data": {
            "image/png": "[encoded data removed]",
            "text/plain": [
              "<Figure size 432x288 with 1 Axes>"
            ]
          },
          "metadata": {
            "tags": [],
            "needs_background": "light"
          }
        }
      ]
    },
    {
      "cell_type": "markdown",
      "metadata": {
        "id": "6_l8luQeLlQ5"
      },
      "source": [
        "# 6. Model the Data"
      ]
    },
    {
      "cell_type": "code",
      "metadata": {
        "id": "YjJBLyKsKGJX",
        "outputId": "3898a654-4d85-4d12-a404-56d597174369",
        "colab": {
          "base_uri": "https://localhost:8080/",
          "height": 278
        }
      },
      "source": [
        "# Graph the population to age as a scatterplot: \n",
        "\n",
        "x = new_df['population_proper']\n",
        "y = new_df['age']\n",
        "\n",
        "plt.scatter(x, y, alpha=0.5)\n",
        "\n",
        "plt.show()"
      ],
      "execution_count": 29,
      "outputs": [
        {
          "output_type": "display_data",
          "data": {
            "image/png": "[encoded data removed]",
            "text/plain": [
              "<Figure size 432x288 with 1 Axes>"
            ]
          },
          "metadata": {
            "tags": [],
            "needs_background": "light"
          }
        }
      ]
    },
    {
      "cell_type": "code",
      "metadata": {
        "id": "0Wzy6r9JKJir",
        "outputId": "d71a2894-27aa-4435-9c55-058c3ae3178a",
        "colab": {
          "base_uri": "https://localhost:8080/",
          "height": 280
        }
      },
      "source": [
        "# Use Seaborn to visualize a linear regression: \n",
        "\n",
        "sns.regplot(data=new_df, x=\"population_proper\", y=\"age\")\n",
        "\n",
        "plt.show()"
      ],
      "execution_count": 30,
      "outputs": [
        {
          "output_type": "display_data",
          "data": {
            "image/png": "[encoded data removed]",
            "text/plain": [
              "<Figure size 432x288 with 1 Axes>"
            ]
          },
          "metadata": {
            "tags": [],
            "needs_background": "light"
          }
        }
      ]
    },
    {
      "cell_type": "markdown",
      "metadata": {
        "id": "T5zRSKkaKQF2"
      },
      "source": [
        "# 7. Communication:"
      ]
    },
    {
      "cell_type": "code",
      "metadata": {
        "id": "mRrO3DS9KRjT",
        "outputId": "cbdd2c18-4800-4fa5-8600-f788b4e973a3",
        "colab": {
          "base_uri": "https://localhost:8080/",
          "height": 295
        }
      },
      "source": [
        "# Now we need to make our visualizations snazzy! \n",
        "\n",
        "# Linear regression plot:\n",
        "sns.regplot(data=new_df, x=\"population_proper\", y=\"age\")\n",
        "\n",
        "# Change the axes, so they're eaiser to undersatnd:\n",
        "ax = plt.subplot(1, 1, 1)\n",
        "ax.set_xticks([100000, 1000000, 2000000, 4000000, 8000000])\n",
        "ax.set_xticklabels(['100k', '1m', '2m','4m', '8m'])\n",
        "\n",
        "\n",
        "# Change the figure style and palette:\n",
        "sns.set_style(\"white\")\n",
        "sns.set_palette(\"pastel\")\n",
        "sns.despine()\n",
        "\n",
        "\n",
        "# Title the axes and plot: \n",
        "ax.set_xlabel(\"City Population\") \n",
        "ax.set_ylabel(\"User Age\") \n",
        "plt.title(\"Age against Population\")\n",
        "\n",
        "\n",
        "plt.show()"
      ],
      "execution_count": 31,
      "outputs": [
        {
          "output_type": "display_data",
          "data": {
            "image/png": "[encoded data removed]",
            "text/plain": [
              "<Figure size 432x288 with 1 Axes>"
            ]
          },
          "metadata": {
            "tags": [],
            "needs_background": "light"
          }
        }
      ]
    },
    {
      "cell_type": "markdown",
      "metadata": {
        "id": "mM_R7W7pKh4j"
      },
      "source": [
        "# 8. Reproducibility and Automation\n",
        "It’s also important to remember that the scientific method requires that your work can be reproduced. In the field of data science, we call this quality reproducibility.\n",
        "\n",
        "Reproducibility is important because it enables you to reuse and modify experiments, but it is also how the scientific community can confirm your analysis is valid. If your study produces results that no one can reproduce, it is likely that your results are invalid and the product of bias or error.\n",
        "\n",
        "Another concept tied to reproducibility is the idea of automation. If you’re creating reports, it’s most likely that you’ll be processing the same data at regular intervals. Rather than writing a new program each time, you can write a program that automates these processes, freeing up your time to do even more data science! Automation may be as simple as writing a Python program you can re-use all the way up to building machine learning models."
      ]
    }
  ]
}

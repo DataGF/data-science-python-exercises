{
  "nbformat": 4,
  "nbformat_minor": 0,
  "metadata": {
    "kernelspec": {
      "display_name": "Python 3",
      "language": "python",
      "name": "python3"
    },
    "language_info": {
      "codemirror_mode": {
        "name": "ipython",
        "version": 3
      },
      "file_extension": ".py",
      "mimetype": "text/x-python",
      "name": "python",
      "nbconvert_exporter": "python",
      "pygments_lexer": "ipython3",
      "version": "3.6.5"
    },
    "colab": {
      "name": "Exercícios de Python 01.ipynb",
      "provenance": [],
      "include_colab_link": true
    }
  },
  "cells": [
    {
      "cell_type": "markdown",
      "metadata": {
        "id": "view-in-github",
        "colab_type": "text"
      },
      "source": [
        "<a href=\"https://colab.research.google.com/github/DataGF/data-science-python-exercises/blob/master/Exerc%C3%ADcios_de_Python_01.ipynb\" target=\"_parent\"><img src=\"https://colab.research.google.com/assets/colab-badge.svg\" alt=\"Open In Colab\"/></a>"
      ]
    },
    {
      "cell_type": "markdown",
      "metadata": {
        "id": "fDfU3PJ013cD"
      },
      "source": [
        "# Exercícios de Python 01"
      ]
    },
    {
      "cell_type": "markdown",
      "metadata": {
        "id": "-BJA-dsB13cE"
      },
      "source": [
        "1) Imprima a frase \"Olá, Mundo!\""
      ]
    },
    {
      "cell_type": "code",
      "metadata": {
        "id": "JtEjkcm113cF",
        "outputId": "040f96df-7086-4e2b-84ca-8cc8aab6711d",
        "colab": {
          "base_uri": "https://localhost:8080/",
          "height": 34
        }
      },
      "source": [
        "print(\"Olá, Mundo!\")"
      ],
      "execution_count": 1,
      "outputs": [
        {
          "output_type": "stream",
          "text": [
            "Olá, Mundo!\n"
          ],
          "name": "stdout"
        }
      ]
    },
    {
      "cell_type": "markdown",
      "metadata": {
        "id": "rsIDNFYb13cL"
      },
      "source": [
        "2) Demonstre como fazer soma, subtração, multiplicação e divisão de forma direta."
      ]
    },
    {
      "cell_type": "code",
      "metadata": {
        "id": "O4FhjxbP13cL",
        "outputId": "a1d057b1-e512-4773-ab27-9d511380a72d",
        "colab": {
          "base_uri": "https://localhost:8080/",
          "height": 34
        }
      },
      "source": [
        "20 + 1"
      ],
      "execution_count": 2,
      "outputs": [
        {
          "output_type": "execute_result",
          "data": {
            "text/plain": [
              "21"
            ]
          },
          "metadata": {
            "tags": []
          },
          "execution_count": 2
        }
      ]
    },
    {
      "cell_type": "code",
      "metadata": {
        "id": "mmW88Qff13cQ",
        "outputId": "b669be25-b3f3-44f0-d89b-d9a283c09a15",
        "colab": {
          "base_uri": "https://localhost:8080/",
          "height": 34
        }
      },
      "source": [
        "33 - 3"
      ],
      "execution_count": 3,
      "outputs": [
        {
          "output_type": "execute_result",
          "data": {
            "text/plain": [
              "30"
            ]
          },
          "metadata": {
            "tags": []
          },
          "execution_count": 3
        }
      ]
    },
    {
      "cell_type": "code",
      "metadata": {
        "id": "8T-sbqRf13cU",
        "outputId": "152ff52c-bfc1-4072-8fbb-aa9d362eb5e6",
        "colab": {
          "base_uri": "https://localhost:8080/",
          "height": 34
        }
      },
      "source": [
        "27 * 9"
      ],
      "execution_count": 4,
      "outputs": [
        {
          "output_type": "execute_result",
          "data": {
            "text/plain": [
              "243"
            ]
          },
          "metadata": {
            "tags": []
          },
          "execution_count": 4
        }
      ]
    },
    {
      "cell_type": "code",
      "metadata": {
        "scrolled": true,
        "id": "xXhupvFQ13cY",
        "outputId": "ffed899c-9f69-46fc-ff9a-a4baa9c75f7b",
        "colab": {
          "base_uri": "https://localhost:8080/",
          "height": 34
        }
      },
      "source": [
        "243 / 9"
      ],
      "execution_count": 5,
      "outputs": [
        {
          "output_type": "execute_result",
          "data": {
            "text/plain": [
              "27.0"
            ]
          },
          "metadata": {
            "tags": []
          },
          "execution_count": 5
        }
      ]
    },
    {
      "cell_type": "markdown",
      "metadata": {
        "id": "0zUmc-4J13cc"
      },
      "source": [
        "3) Imprima o tipo de um determinado valor numérico."
      ]
    },
    {
      "cell_type": "code",
      "metadata": {
        "id": "cZ_zc4Pd13cd",
        "outputId": "0f61474c-b9df-435e-fa4a-e07397a8a3fe",
        "colab": {
          "base_uri": "https://localhost:8080/",
          "height": 34
        }
      },
      "source": [
        "type(108.0)"
      ],
      "execution_count": 6,
      "outputs": [
        {
          "output_type": "execute_result",
          "data": {
            "text/plain": [
              "float"
            ]
          },
          "metadata": {
            "tags": []
          },
          "execution_count": 6
        }
      ]
    },
    {
      "cell_type": "markdown",
      "metadata": {
        "id": "FM4AI28x13cl"
      },
      "source": [
        "4) Converta o valor anterior para outro valor numérico."
      ]
    },
    {
      "cell_type": "code",
      "metadata": {
        "id": "d4xS6Xqw13cm",
        "outputId": "43086efa-36b8-46c7-d286-91857039b20d",
        "colab": {
          "base_uri": "https://localhost:8080/",
          "height": 34
        }
      },
      "source": [
        "int(108.0)"
      ],
      "execution_count": 7,
      "outputs": [
        {
          "output_type": "execute_result",
          "data": {
            "text/plain": [
              "108"
            ]
          },
          "metadata": {
            "tags": []
          },
          "execution_count": 7
        }
      ]
    },
    {
      "cell_type": "markdown",
      "metadata": {
        "id": "_LDfs_b813cq"
      },
      "source": [
        "5) Faça a conversão do valor numérico acima para string."
      ]
    },
    {
      "cell_type": "code",
      "metadata": {
        "id": "9RjBg5rF13cr",
        "outputId": "aa9d8276-af32-4374-f361-83f92498c252",
        "colab": {
          "base_uri": "https://localhost:8080/",
          "height": 35
        }
      },
      "source": [
        "str(108)"
      ],
      "execution_count": 8,
      "outputs": [
        {
          "output_type": "execute_result",
          "data": {
            "application/vnd.google.colaboratory.intrinsic+json": {
              "type": "string"
            },
            "text/plain": [
              "'108'"
            ]
          },
          "metadata": {
            "tags": []
          },
          "execution_count": 8
        }
      ]
    },
    {
      "cell_type": "markdown",
      "metadata": {
        "id": "F4NQ4ACQ13cv"
      },
      "source": [
        "6) Funções de arredonamento:\n",
        "- Arredonde o valor 9.6378965\n",
        "- Arredonde o valor 7.2965555 e exiba apenas 3 cadas decimais"
      ]
    },
    {
      "cell_type": "code",
      "metadata": {
        "id": "XN34o2_A13cv",
        "outputId": "a19bca0e-3910-4452-e142-65b4bbf37288",
        "colab": {
          "base_uri": "https://localhost:8080/",
          "height": 34
        }
      },
      "source": [
        "round(9.6378965)"
      ],
      "execution_count": 9,
      "outputs": [
        {
          "output_type": "execute_result",
          "data": {
            "text/plain": [
              "10"
            ]
          },
          "metadata": {
            "tags": []
          },
          "execution_count": 9
        }
      ]
    },
    {
      "cell_type": "code",
      "metadata": {
        "id": "nCpXYdOn13cz",
        "outputId": "7e41b327-3a3c-4862-c81f-05534e008348",
        "colab": {
          "base_uri": "https://localhost:8080/",
          "height": 34
        }
      },
      "source": [
        "round(7.2965555, 3)"
      ],
      "execution_count": 10,
      "outputs": [
        {
          "output_type": "execute_result",
          "data": {
            "text/plain": [
              "7.297"
            ]
          },
          "metadata": {
            "tags": []
          },
          "execution_count": 10
        }
      ]
    },
    {
      "cell_type": "markdown",
      "metadata": {
        "id": "2wK3Ws0913c3"
      },
      "source": [
        "7) Variáveis:\n",
        "- Defina e mostre a variável 'nome' com seu nome.\n",
        "- Mostre qual é o tipo da variável 'nome'.\n",
        "- Defina e mostre a variável 'sobrenome' com seu sobrenome.\n",
        "- Mostre qual é o tipo da variável 'sobrenome'.\n",
        "- Defina e mostre a variável 'nome_completo' como sendo a concatenação das variávies 'nome' e 'sobrenome'.\n",
        "- Mostre quao é o tipo da variável 'nome_completo'.\n",
        "- Defina as variáveis 'idade' e 'email' em apenas uma linha com sua idade e email e mostre seus valores em sequência.\n",
        "- Defina e imprima a variável 'dados_completos' como sendo a concatenação das variáveis 'nome_completo', 'idade' e 'email'.\n",
        "      Observação: o último comando gera erro, leia atentamente e corrija."
      ]
    },
    {
      "cell_type": "code",
      "metadata": {
        "id": "mRKTQ1V313c3",
        "outputId": "810103ae-b7d7-4fa7-a17c-63cef91a6683",
        "colab": {
          "base_uri": "https://localhost:8080/",
          "height": 35
        }
      },
      "source": [
        "nome = \"Gilberto\"\n",
        "nome"
      ],
      "execution_count": 13,
      "outputs": [
        {
          "output_type": "execute_result",
          "data": {
            "application/vnd.google.colaboratory.intrinsic+json": {
              "type": "string"
            },
            "text/plain": [
              "'Gilberto'"
            ]
          },
          "metadata": {
            "tags": []
          },
          "execution_count": 13
        }
      ]
    },
    {
      "cell_type": "code",
      "metadata": {
        "id": "QtEK6OkC13c7",
        "outputId": "8af62d42-b761-40a2-953d-4592aea6c3b5",
        "colab": {
          "base_uri": "https://localhost:8080/",
          "height": 34
        }
      },
      "source": [
        "type(nome)"
      ],
      "execution_count": 14,
      "outputs": [
        {
          "output_type": "execute_result",
          "data": {
            "text/plain": [
              "str"
            ]
          },
          "metadata": {
            "tags": []
          },
          "execution_count": 14
        }
      ]
    },
    {
      "cell_type": "code",
      "metadata": {
        "id": "qVcBC7J613c-",
        "outputId": "02efb637-bb34-47a9-8acb-d67801dc2b28",
        "colab": {
          "base_uri": "https://localhost:8080/",
          "height": 35
        }
      },
      "source": [
        "sobrenome = \"da Silva Guimarães Filho\"\n",
        "sobrenome"
      ],
      "execution_count": 15,
      "outputs": [
        {
          "output_type": "execute_result",
          "data": {
            "application/vnd.google.colaboratory.intrinsic+json": {
              "type": "string"
            },
            "text/plain": [
              "'da Silva Guimarães Filho'"
            ]
          },
          "metadata": {
            "tags": []
          },
          "execution_count": 15
        }
      ]
    },
    {
      "cell_type": "code",
      "metadata": {
        "id": "n5AWujDW6oRY",
        "outputId": "53cb3bad-55e9-4513-b204-b1d8e74fe4b8",
        "colab": {
          "base_uri": "https://localhost:8080/",
          "height": 34
        }
      },
      "source": [
        "type(sobrenome)"
      ],
      "execution_count": 17,
      "outputs": [
        {
          "output_type": "execute_result",
          "data": {
            "text/plain": [
              "str"
            ]
          },
          "metadata": {
            "tags": []
          },
          "execution_count": 17
        }
      ]
    },
    {
      "cell_type": "code",
      "metadata": {
        "id": "YVFzSvmA6cjK",
        "outputId": "d9a173d8-3567-434b-df29-1913ccc4a788",
        "colab": {
          "base_uri": "https://localhost:8080/",
          "height": 35
        }
      },
      "source": [
        "nome_completo = nome + sobrenome\n",
        "nome_completo"
      ],
      "execution_count": 16,
      "outputs": [
        {
          "output_type": "execute_result",
          "data": {
            "application/vnd.google.colaboratory.intrinsic+json": {
              "type": "string"
            },
            "text/plain": [
              "'Gilbertoda Silva Guimarães Filho'"
            ]
          },
          "metadata": {
            "tags": []
          },
          "execution_count": 16
        }
      ]
    },
    {
      "cell_type": "code",
      "metadata": {
        "id": "xJ0PT6Qf6tYA",
        "outputId": "a057588a-54cd-4013-deee-76f47ed14ece",
        "colab": {
          "base_uri": "https://localhost:8080/",
          "height": 34
        }
      },
      "source": [
        "type(nome_completo)"
      ],
      "execution_count": 18,
      "outputs": [
        {
          "output_type": "execute_result",
          "data": {
            "text/plain": [
              "str"
            ]
          },
          "metadata": {
            "tags": []
          },
          "execution_count": 18
        }
      ]
    },
    {
      "cell_type": "code",
      "metadata": {
        "id": "es8BGzcm13dC",
        "outputId": "17e39075-1d85-4a5e-b728-d7cc6f676b04",
        "colab": {
          "base_uri": "https://localhost:8080/",
          "height": 34
        }
      },
      "source": [
        "email, idade = 'gf.cientistadedados@gmail.com', 40\n",
        "email, idade"
      ],
      "execution_count": 19,
      "outputs": [
        {
          "output_type": "execute_result",
          "data": {
            "text/plain": [
              "('gf.cientistadedados@gmail.com', 40)"
            ]
          },
          "metadata": {
            "tags": []
          },
          "execution_count": 19
        }
      ]
    },
    {
      "cell_type": "code",
      "metadata": {
        "id": "lUO3pXt166yo",
        "outputId": "a9a30047-d98f-4484-845a-d99758365778",
        "colab": {
          "base_uri": "https://localhost:8080/",
          "height": 180
        }
      },
      "source": [
        "dados_completos = nome_completo + idade + email\n",
        "print(dados_completos)"
      ],
      "execution_count": 20,
      "outputs": [
        {
          "output_type": "error",
          "ename": "TypeError",
          "evalue": "ignored",
          "traceback": [
            "\u001b[0;31m---------------------------------------------------------------------------\u001b[0m",
            "\u001b[0;31mTypeError\u001b[0m                                 Traceback (most recent call last)",
            "\u001b[0;32m<ipython-input-20-2a91f15d20ab>\u001b[0m in \u001b[0;36m<module>\u001b[0;34m()\u001b[0m\n\u001b[0;32m----> 1\u001b[0;31m \u001b[0mdados_completos\u001b[0m \u001b[0;34m=\u001b[0m \u001b[0mnome_completo\u001b[0m \u001b[0;34m+\u001b[0m \u001b[0midade\u001b[0m \u001b[0;34m+\u001b[0m \u001b[0memail\u001b[0m\u001b[0;34m\u001b[0m\u001b[0;34m\u001b[0m\u001b[0m\n\u001b[0m\u001b[1;32m      2\u001b[0m \u001b[0mprint\u001b[0m\u001b[0;34m(\u001b[0m\u001b[0mdados_completos\u001b[0m\u001b[0;34m)\u001b[0m\u001b[0;34m\u001b[0m\u001b[0;34m\u001b[0m\u001b[0m\n",
            "\u001b[0;31mTypeError\u001b[0m: must be str, not int"
          ]
        }
      ]
    },
    {
      "cell_type": "code",
      "metadata": {
        "id": "X2UW05lC7cUe",
        "outputId": "6cf65a92-5ccc-46f1-abb9-28218b90a592",
        "colab": {
          "base_uri": "https://localhost:8080/",
          "height": 34
        }
      },
      "source": [
        "dados_completos = nome_completo + ' ' + str(idade) + ' ' + email\n",
        "print(dados_completos)"
      ],
      "execution_count": 23,
      "outputs": [
        {
          "output_type": "stream",
          "text": [
            "Gilbertoda Silva Guimarães Filho 40 gf.cientistadedados@gmail.com\n"
          ],
          "name": "stdout"
        }
      ]
    },
    {
      "cell_type": "markdown",
      "metadata": {
        "id": "ditZyanA8C1y"
      },
      "source": [
        "8) Explique a causa do erro acima e como fez para imprimir a variável solicitada."
      ]
    },
    {
      "cell_type": "markdown",
      "metadata": {
        "id": "h4bLiH3d8Weg"
      },
      "source": [
        "Resposta: o python não aceita declaração de uma mesma variável como sendo string e inteiro ao mesmo tempo. Para imprimir a variável solicitada foi preciso transformar o valor idade de inteiro para string com a função str()."
      ]
    },
    {
      "cell_type": "markdown",
      "metadata": {
        "id": "PPfk5lQF86XQ"
      },
      "source": [
        "9) Tente criar a variável 'break' com o valor inteiro 12."
      ]
    },
    {
      "cell_type": "code",
      "metadata": {
        "id": "1ZhzsmoH9CoI",
        "outputId": "38f339e9-c2d5-463f-bc16-04fab154e77c",
        "colab": {
          "base_uri": "https://localhost:8080/",
          "height": 129
        }
      },
      "source": [
        "break = 12"
      ],
      "execution_count": 24,
      "outputs": [
        {
          "output_type": "error",
          "ename": "SyntaxError",
          "evalue": "ignored",
          "traceback": [
            "\u001b[0;36m  File \u001b[0;32m\"<ipython-input-24-62b44d023b2a>\"\u001b[0;36m, line \u001b[0;32m1\u001b[0m\n\u001b[0;31m    break = 12\u001b[0m\n\u001b[0m          ^\u001b[0m\n\u001b[0;31mSyntaxError\u001b[0m\u001b[0;31m:\u001b[0m invalid syntax\n"
          ]
        }
      ]
    },
    {
      "cell_type": "markdown",
      "metadata": {
        "id": "ubIuukev9IAZ"
      },
      "source": [
        "10) Por que você acha que ocorreu o erro acima?"
      ]
    },
    {
      "cell_type": "markdown",
      "metadata": {
        "id": "Av-ybA309Nix"
      },
      "source": [
        "Resposta: break é uma palavra reservada do python e portanto não podem ser utilizada para declaração de variável."
      ]
    },
    {
      "cell_type": "markdown",
      "metadata": {
        "id": "Hf9Jwqin13dH"
      },
      "source": [
        "11) Strings:\n",
        "1. Defina e mostre uma variável com a string: \"Python é uma bênção!\"\n",
        "2. Imprima o primeiro caracter da variável que você definiu.\n",
        "3. Imprima os 8 primeiros caracteres da variável que você definiu.\n",
        "4. Conte todos os caracteres da variável que você definiu em uma linha de comando.\n",
        "5. Conte vezes a palavra dados aparece no seguinte texto: \n",
        "    - \"dados são observações documentadas ou resultados da medição. A disponibilidade dos dados oferece oportunidades para a obtenção de informações. Os dados podem ser obtidos pela percepção através dos sentidos (por exemplo observação) ou pela execução de um processo de medição. A Figura abaixo ilustra as fontes dos dados.\" (fonte do texto: https://www.ime.unicamp.br/~hildete/dados.pdf)\n",
        "6. Substitua o primeiro caracter do texto acima para maiúsculo.\n",
        "7. Quebre as frases do texto separado por ponto, criando uma lista e salvando esta lista na variável 'lista_frases'.\n",
        "8. Defina e mostre a variável 'frase' como sendo a primeira frase de 'lista_frases'.\n",
        "9. Coloque o primeiro caracter da variável 'frase' como maiúsculo.\n",
        "\n"
      ]
    },
    {
      "cell_type": "code",
      "metadata": {
        "id": "xowq-tSX13dH",
        "outputId": "270b249f-c06b-4a89-d90a-2558e65b7609",
        "colab": {
          "base_uri": "https://localhost:8080/",
          "height": 35
        }
      },
      "source": [
        "amem = \"Python é uma bênção!\"\n",
        "amem"
      ],
      "execution_count": 25,
      "outputs": [
        {
          "output_type": "execute_result",
          "data": {
            "application/vnd.google.colaboratory.intrinsic+json": {
              "type": "string"
            },
            "text/plain": [
              "'Python é uma bênção!'"
            ]
          },
          "metadata": {
            "tags": []
          },
          "execution_count": 25
        }
      ]
    },
    {
      "cell_type": "code",
      "metadata": {
        "id": "xh4X_HUX13dL",
        "outputId": "ae0732a9-0b3f-455e-fae8-b22c3a665f1a",
        "colab": {
          "base_uri": "https://localhost:8080/",
          "height": 35
        }
      },
      "source": [
        "amem[0]"
      ],
      "execution_count": 26,
      "outputs": [
        {
          "output_type": "execute_result",
          "data": {
            "application/vnd.google.colaboratory.intrinsic+json": {
              "type": "string"
            },
            "text/plain": [
              "'P'"
            ]
          },
          "metadata": {
            "tags": []
          },
          "execution_count": 26
        }
      ]
    },
    {
      "cell_type": "code",
      "metadata": {
        "id": "kCGWlp5f_06s",
        "outputId": "3e046a57-29aa-428e-cbfe-6423bd76ba69",
        "colab": {
          "base_uri": "https://localhost:8080/",
          "height": 35
        }
      },
      "source": [
        "amem[:8]"
      ],
      "execution_count": 29,
      "outputs": [
        {
          "output_type": "execute_result",
          "data": {
            "application/vnd.google.colaboratory.intrinsic+json": {
              "type": "string"
            },
            "text/plain": [
              "'Python é'"
            ]
          },
          "metadata": {
            "tags": []
          },
          "execution_count": 29
        }
      ]
    },
    {
      "cell_type": "code",
      "metadata": {
        "id": "JtySBRYm13dO",
        "outputId": "fc050382-189f-4d3a-c1b5-ed530203d93c",
        "colab": {
          "base_uri": "https://localhost:8080/",
          "height": 34
        }
      },
      "source": [
        "len(amem)"
      ],
      "execution_count": 30,
      "outputs": [
        {
          "output_type": "execute_result",
          "data": {
            "text/plain": [
              "20"
            ]
          },
          "metadata": {
            "tags": []
          },
          "execution_count": 30
        }
      ]
    },
    {
      "cell_type": "code",
      "metadata": {
        "id": "smwSt18Q13dR",
        "outputId": "ade256a5-1b94-4fb6-8f39-2a938b2baba6",
        "colab": {
          "base_uri": "https://localhost:8080/",
          "height": 34
        }
      },
      "source": [
        "texto = \"dados são observações documentadas ou resultados da medição. A disponibilidade dos dados oferece oportunidades para a obtenção de informações. Os dados podem ser obtidos pela percepção através dos sentidos (por exemplo observação) ou pela execução de um processo de medição. A Figura abaixo ilustra as fontes dos dados.\"\n",
        "texto.count('dados')"
      ],
      "execution_count": 31,
      "outputs": [
        {
          "output_type": "execute_result",
          "data": {
            "text/plain": [
              "4"
            ]
          },
          "metadata": {
            "tags": []
          },
          "execution_count": 31
        }
      ]
    },
    {
      "cell_type": "code",
      "metadata": {
        "id": "SyTgyUJV13dW",
        "outputId": "44ee7d46-0c17-4deb-a64d-e02f6d4f0791",
        "colab": {
          "base_uri": "https://localhost:8080/",
          "height": 102
        }
      },
      "source": [
        "lista_frases = texto.split('.')\n",
        "lista_frases"
      ],
      "execution_count": 40,
      "outputs": [
        {
          "output_type": "execute_result",
          "data": {
            "text/plain": [
              "['dados são observações documentadas ou resultados da medição',\n",
              " ' A disponibilidade dos dados oferece oportunidades para a obtenção de informações',\n",
              " ' Os dados podem ser obtidos pela percepção através dos sentidos (por exemplo observação) ou pela execução de um processo de medição',\n",
              " ' A Figura abaixo ilustra as fontes dos dados',\n",
              " '']"
            ]
          },
          "metadata": {
            "tags": []
          },
          "execution_count": 40
        }
      ]
    },
    {
      "cell_type": "code",
      "metadata": {
        "id": "PprS-LkOA_7z",
        "outputId": "c976ac7e-5be8-4edd-be61-8a316ad75796",
        "colab": {
          "base_uri": "https://localhost:8080/",
          "height": 35
        }
      },
      "source": [
        "frase = lista_frases[0]\n",
        "frase"
      ],
      "execution_count": 42,
      "outputs": [
        {
          "output_type": "execute_result",
          "data": {
            "application/vnd.google.colaboratory.intrinsic+json": {
              "type": "string"
            },
            "text/plain": [
              "'dados são observações documentadas ou resultados da medição'"
            ]
          },
          "metadata": {
            "tags": []
          },
          "execution_count": 42
        }
      ]
    },
    {
      "cell_type": "code",
      "metadata": {
        "id": "V520by1FBb_q",
        "outputId": "557e7f98-75a1-4eb0-c6ac-d534584f404c",
        "colab": {
          "base_uri": "https://localhost:8080/",
          "height": 35
        }
      },
      "source": [
        "frase.capitalize()"
      ],
      "execution_count": 43,
      "outputs": [
        {
          "output_type": "execute_result",
          "data": {
            "application/vnd.google.colaboratory.intrinsic+json": {
              "type": "string"
            },
            "text/plain": [
              "'Dados são observações documentadas ou resultados da medição'"
            ]
          },
          "metadata": {
            "tags": []
          },
          "execution_count": 43
        }
      ]
    },
    {
      "cell_type": "markdown",
      "metadata": {
        "id": "nX3ElBQ-13dZ"
      },
      "source": [
        "12) Listas:\n",
        "1. Crie e mostre a lista 'anos_nascimentos' com valores inteiros.\n",
        "2. Mostre o terceiro elemento da lista.\n",
        "3. Conte os valores da lista.\n",
        "4. Substitua o valor do terceiro elemento da lista e mostre a nova lista.\n",
        "5. Mostre os valores do terceiro elemento da lista em diante.\n",
        "6. Remova algum elemento da lista e mostre o resultado.\n",
        "7. Crie e mostre a lista 'salarios' com os valores : 1200, 2400, 4800, 9600, 19200, 39400.\n",
        "8. Verifique se há valor 7200 na lista 'salarios'.\n",
        "9. Verifique se há valor 9600 na lista 'salarios'.\n",
        "10. Mostre o menor e maior valor da lista 'salarios'.\n",
        "11. Adicione o valor 7200 à lista e mostre a nova lista.\n",
        "12. Adicione os valores 9300 e 10900 à lista com apenas um comando e mostre a nova lista.\n",
        "13. Mostre o índice do elemento de valor 7200 da lista.\n",
        "14. Remova o elemento 1200 da lista.\n",
        "15. Mostre o índice do elemento de valor 7200 da lista novamente.\n",
        "16. Ordene os valores da lista 'salarios' em ordem crescente e decrescente."
      ]
    },
    {
      "cell_type": "code",
      "metadata": {
        "id": "sCW9plVa13dZ",
        "outputId": "a6977474-c823-4940-fc0d-d8624f589f4b",
        "colab": {
          "base_uri": "https://localhost:8080/",
          "height": 34
        }
      },
      "source": [
        "anos_nascimentos = [1945, 1952, 1927, 1939, 1971, 1963]\n",
        "anos_nascimentos"
      ],
      "execution_count": 44,
      "outputs": [
        {
          "output_type": "execute_result",
          "data": {
            "text/plain": [
              "[1945, 1952, 1927, 1939, 1971, 1963]"
            ]
          },
          "metadata": {
            "tags": []
          },
          "execution_count": 44
        }
      ]
    },
    {
      "cell_type": "code",
      "metadata": {
        "id": "9FcFgQ2V13dc",
        "outputId": "b95ad887-7848-4abf-c0b9-ccb71be6c6e6",
        "colab": {
          "base_uri": "https://localhost:8080/",
          "height": 34
        }
      },
      "source": [
        "anos_nascimentos[2]"
      ],
      "execution_count": 45,
      "outputs": [
        {
          "output_type": "execute_result",
          "data": {
            "text/plain": [
              "1927"
            ]
          },
          "metadata": {
            "tags": []
          },
          "execution_count": 45
        }
      ]
    },
    {
      "cell_type": "code",
      "metadata": {
        "id": "Ypc-KGVk13de",
        "outputId": "c18ac38e-0dee-48aa-df2c-d1f60b705682",
        "colab": {
          "base_uri": "https://localhost:8080/",
          "height": 34
        }
      },
      "source": [
        "len(anos_nascimentos)"
      ],
      "execution_count": 46,
      "outputs": [
        {
          "output_type": "execute_result",
          "data": {
            "text/plain": [
              "6"
            ]
          },
          "metadata": {
            "tags": []
          },
          "execution_count": 46
        }
      ]
    },
    {
      "cell_type": "code",
      "metadata": {
        "id": "0q99g9pK13di",
        "outputId": "7fa94109-10ca-4ccf-ff9e-cbf347ade082",
        "colab": {
          "base_uri": "https://localhost:8080/",
          "height": 34
        }
      },
      "source": [
        "anos_nascimentos[2] = 2005\n",
        "anos_nascimentos"
      ],
      "execution_count": 47,
      "outputs": [
        {
          "output_type": "execute_result",
          "data": {
            "text/plain": [
              "[1945, 1952, 2005, 1939, 1971, 1963]"
            ]
          },
          "metadata": {
            "tags": []
          },
          "execution_count": 47
        }
      ]
    },
    {
      "cell_type": "code",
      "metadata": {
        "id": "Vun9kq9x13dl",
        "outputId": "8d88640e-eeff-4592-b56a-cefca0e44e33",
        "colab": {
          "base_uri": "https://localhost:8080/",
          "height": 34
        }
      },
      "source": [
        "anos_nascimentos[2:]"
      ],
      "execution_count": 48,
      "outputs": [
        {
          "output_type": "execute_result",
          "data": {
            "text/plain": [
              "[2005, 1939, 1971, 1963]"
            ]
          },
          "metadata": {
            "tags": []
          },
          "execution_count": 48
        }
      ]
    },
    {
      "cell_type": "code",
      "metadata": {
        "id": "gzJca22K13do",
        "outputId": "c58f1863-63a4-4dd7-a387-9098b668689c",
        "colab": {
          "base_uri": "https://localhost:8080/",
          "height": 34
        }
      },
      "source": [
        "anos_nascimentos.remove(1939)\n",
        "anos_nascimentos"
      ],
      "execution_count": 49,
      "outputs": [
        {
          "output_type": "execute_result",
          "data": {
            "text/plain": [
              "[1945, 1952, 2005, 1971, 1963]"
            ]
          },
          "metadata": {
            "tags": []
          },
          "execution_count": 49
        }
      ]
    },
    {
      "cell_type": "code",
      "metadata": {
        "id": "-BXWFj6f13dq",
        "outputId": "90faec08-cb70-40e8-e97b-1706e52080bb",
        "colab": {
          "base_uri": "https://localhost:8080/",
          "height": 34
        }
      },
      "source": [
        "salarios = [1200, 2400, 4800, 9600, 19200, 39400]\n",
        "salarios"
      ],
      "execution_count": 50,
      "outputs": [
        {
          "output_type": "execute_result",
          "data": {
            "text/plain": [
              "[1200, 2400, 4800, 9600, 19200, 39400]"
            ]
          },
          "metadata": {
            "tags": []
          },
          "execution_count": 50
        }
      ]
    },
    {
      "cell_type": "code",
      "metadata": {
        "id": "51MkvhZ213du",
        "outputId": "233168e6-d55a-4550-b562-b9decf773b43",
        "colab": {
          "base_uri": "https://localhost:8080/",
          "height": 34
        }
      },
      "source": [
        "7200 in salarios"
      ],
      "execution_count": 51,
      "outputs": [
        {
          "output_type": "execute_result",
          "data": {
            "text/plain": [
              "False"
            ]
          },
          "metadata": {
            "tags": []
          },
          "execution_count": 51
        }
      ]
    },
    {
      "cell_type": "code",
      "metadata": {
        "id": "nfb8WFs5HGPJ",
        "outputId": "cd80a986-b549-472e-8cbd-7aff3513de7a",
        "colab": {
          "base_uri": "https://localhost:8080/",
          "height": 34
        }
      },
      "source": [
        "9600 in salarios"
      ],
      "execution_count": 52,
      "outputs": [
        {
          "output_type": "execute_result",
          "data": {
            "text/plain": [
              "True"
            ]
          },
          "metadata": {
            "tags": []
          },
          "execution_count": 52
        }
      ]
    },
    {
      "cell_type": "code",
      "metadata": {
        "id": "kx4czJqQ13dx",
        "outputId": "5dec714e-db7c-4f27-ea24-83bba072f14f",
        "colab": {
          "base_uri": "https://localhost:8080/",
          "height": 34
        }
      },
      "source": [
        "min(salarios), max(salarios)"
      ],
      "execution_count": 53,
      "outputs": [
        {
          "output_type": "execute_result",
          "data": {
            "text/plain": [
              "(1200, 39400)"
            ]
          },
          "metadata": {
            "tags": []
          },
          "execution_count": 53
        }
      ]
    },
    {
      "cell_type": "code",
      "metadata": {
        "id": "7ATCMuraHf49",
        "outputId": "57098857-9b81-45a9-d1e4-eb95ff0caf64",
        "colab": {
          "base_uri": "https://localhost:8080/",
          "height": 34
        }
      },
      "source": [
        "salarios.append(7200)\n",
        "salarios"
      ],
      "execution_count": 54,
      "outputs": [
        {
          "output_type": "execute_result",
          "data": {
            "text/plain": [
              "[1200, 2400, 4800, 9600, 19200, 39400, 7200]"
            ]
          },
          "metadata": {
            "tags": []
          },
          "execution_count": 54
        }
      ]
    },
    {
      "cell_type": "code",
      "metadata": {
        "id": "y24RdbNqHvoS",
        "outputId": "b9e60242-8b75-405d-9c68-3a11a7dd734a",
        "colab": {
          "base_uri": "https://localhost:8080/",
          "height": 34
        }
      },
      "source": [
        "salarios.extend([9300, 10900])\n",
        "salarios"
      ],
      "execution_count": 55,
      "outputs": [
        {
          "output_type": "execute_result",
          "data": {
            "text/plain": [
              "[1200, 2400, 4800, 9600, 19200, 39400, 7200, 9300, 10900]"
            ]
          },
          "metadata": {
            "tags": []
          },
          "execution_count": 55
        }
      ]
    },
    {
      "cell_type": "code",
      "metadata": {
        "id": "fDmLwPcQH-mS",
        "outputId": "0247024b-f8c5-4b59-ef97-046f6408feca",
        "colab": {
          "base_uri": "https://localhost:8080/",
          "height": 34
        }
      },
      "source": [
        "salarios.index(7200)"
      ],
      "execution_count": 57,
      "outputs": [
        {
          "output_type": "execute_result",
          "data": {
            "text/plain": [
              "6"
            ]
          },
          "metadata": {
            "tags": []
          },
          "execution_count": 57
        }
      ]
    },
    {
      "cell_type": "code",
      "metadata": {
        "id": "mzY0VC7f13d5",
        "outputId": "abcff6b7-c0c7-4c78-e10b-e2f56460a47e",
        "colab": {
          "base_uri": "https://localhost:8080/",
          "height": 34
        }
      },
      "source": [
        "salarios.remove(1200)\n",
        "salarios"
      ],
      "execution_count": 58,
      "outputs": [
        {
          "output_type": "execute_result",
          "data": {
            "text/plain": [
              "[2400, 4800, 9600, 19200, 39400, 7200, 9300, 10900]"
            ]
          },
          "metadata": {
            "tags": []
          },
          "execution_count": 58
        }
      ]
    },
    {
      "cell_type": "code",
      "metadata": {
        "id": "mHuCvSxN13d9",
        "outputId": "3519af2c-777e-486c-8df7-e4f3576da5bd",
        "colab": {
          "base_uri": "https://localhost:8080/",
          "height": 34
        }
      },
      "source": [
        "salarios.index(7200)"
      ],
      "execution_count": 59,
      "outputs": [
        {
          "output_type": "execute_result",
          "data": {
            "text/plain": [
              "5"
            ]
          },
          "metadata": {
            "tags": []
          },
          "execution_count": 59
        }
      ]
    },
    {
      "cell_type": "code",
      "metadata": {
        "id": "YRg-dUiX13eC",
        "outputId": "d73c96e7-6dc2-4d4b-88b0-ed3bd5b6e823",
        "colab": {
          "base_uri": "https://localhost:8080/",
          "height": 34
        }
      },
      "source": [
        "salarios.sort()\n",
        "salarios"
      ],
      "execution_count": 61,
      "outputs": [
        {
          "output_type": "execute_result",
          "data": {
            "text/plain": [
              "[2400, 4800, 7200, 9300, 9600, 10900, 19200, 39400]"
            ]
          },
          "metadata": {
            "tags": []
          },
          "execution_count": 61
        }
      ]
    },
    {
      "cell_type": "code",
      "metadata": {
        "id": "kuTMIgz213eG",
        "outputId": "99dfcbef-6263-4cef-cb84-4897ddc64a04",
        "colab": {
          "base_uri": "https://localhost:8080/",
          "height": 34
        }
      },
      "source": [
        "salarios.sort(reverse  =True)\n",
        "salarios"
      ],
      "execution_count": 62,
      "outputs": [
        {
          "output_type": "execute_result",
          "data": {
            "text/plain": [
              "[39400, 19200, 10900, 9600, 9300, 7200, 4800, 2400]"
            ]
          },
          "metadata": {
            "tags": []
          },
          "execution_count": 62
        }
      ]
    }
  ]
}

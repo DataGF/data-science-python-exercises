{
  "nbformat": 4,
  "nbformat_minor": 0,
  "metadata": {
    "colab": {
      "name": "intro.ipynb",
      "provenance": [],
      "collapsed_sections": [],
      "authorship_tag": "ABX9TyOfcDd4VwbNdrgGIUXiODY8",
      "include_colab_link": true
    },
    "kernelspec": {
      "name": "python3",
      "display_name": "Python 3"
    }
  },
  "cells": [
    {
      "cell_type": "markdown",
      "metadata": {
        "id": "view-in-github",
        "colab_type": "text"
      },
      "source": [
        "<a href=\"https://colab.research.google.com/github/DataGF/data-science-python-exercises/blob/master/intro.ipynb\" target=\"_parent\"><img src=\"https://colab.research.google.com/assets/colab-badge.svg\" alt=\"Open In Colab\"/></a>"
      ]
    },
    {
      "cell_type": "markdown",
      "metadata": {
        "id": "xMjGl2xymUeI",
        "colab_type": "text"
      },
      "source": [
        "### Calculation of sales revenue after tax reduction of 19%\n",
        "*Cálculo da receita de vendas após abatimento de imposto de 19%*\n"
      ]
    },
    {
      "cell_type": "code",
      "metadata": {
        "id": "9RVHZyiNld-f",
        "colab_type": "code",
        "colab": {
          "base_uri": "https://localhost:8080/",
          "height": 34
        },
        "outputId": "771f2772-47cf-4501-ee92-1e9037348999"
      },
      "source": [
        "sales = 10000\n",
        "rate = 0.19\n",
        "tax = sales * rate\n",
        "revenue = sales - tax\n",
        "print(f\"The revenue after a tax reduction of 19% is: {revenue}\")"
      ],
      "execution_count": 1,
      "outputs": [
        {
          "output_type": "stream",
          "text": [
            "The revenue after a tax reduction of 19% is: 8100.0\n"
          ],
          "name": "stdout"
        }
      ]
    },
    {
      "cell_type": "markdown",
      "metadata": {
        "id": "oCquD_gvo5Qt",
        "colab_type": "text"
      },
      "source": [
        "### Import the Numpy library and checking its version\n",
        "*Importa a biblioteca Numpy e verifica sua versão*"
      ]
    },
    {
      "cell_type": "code",
      "metadata": {
        "id": "Snoen-DFlveO",
        "colab_type": "code",
        "colab": {
          "base_uri": "https://localhost:8080/",
          "height": 35
        },
        "outputId": "b10aa12e-9012-476e-f7c1-d07d9d53a5ad"
      },
      "source": [
        "import numpy as np\n",
        "np.__version__"
      ],
      "execution_count": 2,
      "outputs": [
        {
          "output_type": "execute_result",
          "data": {
            "application/vnd.google.colaboratory.intrinsic+json": {
              "type": "string"
            },
            "text/plain": [
              "'1.18.5'"
            ]
          },
          "metadata": {
            "tags": []
          },
          "execution_count": 2
        }
      ]
    },
    {
      "cell_type": "markdown",
      "metadata": {
        "id": "z0q_RjibpYBd",
        "colab_type": "text"
      },
      "source": [
        "### Prints the function's documentation\n",
        "*Imprime a documentação de uma função*"
      ]
    },
    {
      "cell_type": "code",
      "metadata": {
        "id": "5DlDSi8upHzT",
        "colab_type": "code",
        "colab": {}
      },
      "source": [
        "np.random.rand?"
      ],
      "execution_count": 3,
      "outputs": []
    },
    {
      "cell_type": "markdown",
      "metadata": {
        "id": "qa6-Gur_p9qM",
        "colab_type": "text"
      },
      "source": [
        "### Dealing with library import errors\n",
        "*Lidando com erros de importação de biblioteca*"
      ]
    },
    {
      "cell_type": "code",
      "metadata": {
        "id": "xtctKIAypmhB",
        "colab_type": "code",
        "colab": {
          "base_uri": "https://localhost:8080/",
          "height": 299
        },
        "outputId": "f7abb54b-8270-4516-deed-dbac63b54d57"
      },
      "source": [
        "import imageai # trying to import"
      ],
      "execution_count": 4,
      "outputs": [
        {
          "output_type": "error",
          "ename": "ModuleNotFoundError",
          "evalue": "ignored",
          "traceback": [
            "\u001b[0;31m---------------------------------------------------------------------------\u001b[0m",
            "\u001b[0;31mModuleNotFoundError\u001b[0m                       Traceback (most recent call last)",
            "\u001b[0;32m<ipython-input-4-410ee2bff64b>\u001b[0m in \u001b[0;36m<module>\u001b[0;34m()\u001b[0m\n\u001b[0;32m----> 1\u001b[0;31m \u001b[0;32mimport\u001b[0m \u001b[0mimageai\u001b[0m \u001b[0;31m# trying to import\u001b[0m\u001b[0;34m\u001b[0m\u001b[0;34m\u001b[0m\u001b[0m\n\u001b[0m",
            "\u001b[0;31mModuleNotFoundError\u001b[0m: No module named 'imageai'",
            "",
            "\u001b[0;31m---------------------------------------------------------------------------\u001b[0;32m\nNOTE: If your import is failing due to a missing package, you can\nmanually install dependencies using either !pip or !apt.\n\nTo view examples of installing some common dependencies, click the\n\"Open Examples\" button below.\n\u001b[0;31m---------------------------------------------------------------------------\u001b[0m\n"
          ]
        }
      ]
    },
    {
      "cell_type": "code",
      "metadata": {
        "id": "2oEbn0xPqGw8",
        "colab_type": "code",
        "colab": {
          "base_uri": "https://localhost:8080/",
          "height": 272
        },
        "outputId": "d02acfa8-2314-4314-f432-ce27f8cff58c"
      },
      "source": [
        "!pip install imageai # solving the error"
      ],
      "execution_count": 5,
      "outputs": [
        {
          "output_type": "stream",
          "text": [
            "Collecting imageai\n",
            "\u001b[?25l  Downloading https://files.pythonhosted.org/packages/09/99/4023e191a343fb23f01ae02ac57a5ca58037c310e8d8c62f87638a3bafc7/imageai-2.1.5-py3-none-any.whl (180kB)\n",
            "\r\u001b[K     |█▉                              | 10kB 16.2MB/s eta 0:00:01\r\u001b[K     |███▋                            | 20kB 2.8MB/s eta 0:00:01\r\u001b[K     |█████▍                          | 30kB 3.7MB/s eta 0:00:01\r\u001b[K     |███████▎                        | 40kB 4.1MB/s eta 0:00:01\r\u001b[K     |█████████                       | 51kB 3.3MB/s eta 0:00:01\r\u001b[K     |██████████▉                     | 61kB 3.9MB/s eta 0:00:01\r\u001b[K     |████████████▊                   | 71kB 4.0MB/s eta 0:00:01\r\u001b[K     |██████████████▌                 | 81kB 4.5MB/s eta 0:00:01\r\u001b[K     |████████████████▎               | 92kB 4.9MB/s eta 0:00:01\r\u001b[K     |██████████████████▏             | 102kB 4.6MB/s eta 0:00:01\r\u001b[K     |████████████████████            | 112kB 4.6MB/s eta 0:00:01\r\u001b[K     |█████████████████████▊          | 122kB 4.6MB/s eta 0:00:01\r\u001b[K     |███████████████████████▋        | 133kB 4.6MB/s eta 0:00:01\r\u001b[K     |█████████████████████████▍      | 143kB 4.6MB/s eta 0:00:01\r\u001b[K     |███████████████████████████▏    | 153kB 4.6MB/s eta 0:00:01\r\u001b[K     |█████████████████████████████   | 163kB 4.6MB/s eta 0:00:01\r\u001b[K     |██████████████████████████████▉ | 174kB 4.6MB/s eta 0:00:01\r\u001b[K     |████████████████████████████████| 184kB 4.6MB/s \n",
            "\u001b[?25hRequirement already satisfied: h5py in /usr/local/lib/python3.6/dist-packages (from imageai) (2.10.0)\n",
            "Requirement already satisfied: numpy in /usr/local/lib/python3.6/dist-packages (from imageai) (1.18.5)\n",
            "Requirement already satisfied: scipy in /usr/local/lib/python3.6/dist-packages (from imageai) (1.4.1)\n",
            "Requirement already satisfied: matplotlib in /usr/local/lib/python3.6/dist-packages (from imageai) (3.2.2)\n",
            "Requirement already satisfied: pillow in /usr/local/lib/python3.6/dist-packages (from imageai) (7.0.0)\n",
            "Requirement already satisfied: six in /usr/local/lib/python3.6/dist-packages (from h5py->imageai) (1.15.0)\n",
            "Requirement already satisfied: cycler>=0.10 in /usr/local/lib/python3.6/dist-packages (from matplotlib->imageai) (0.10.0)\n",
            "Requirement already satisfied: pyparsing!=2.0.4,!=2.1.2,!=2.1.6,>=2.0.1 in /usr/local/lib/python3.6/dist-packages (from matplotlib->imageai) (2.4.7)\n",
            "Requirement already satisfied: kiwisolver>=1.0.1 in /usr/local/lib/python3.6/dist-packages (from matplotlib->imageai) (1.2.0)\n",
            "Requirement already satisfied: python-dateutil>=2.1 in /usr/local/lib/python3.6/dist-packages (from matplotlib->imageai) (2.8.1)\n",
            "Installing collected packages: imageai\n",
            "Successfully installed imageai-2.1.5\n"
          ],
          "name": "stdout"
        }
      ]
    },
    {
      "cell_type": "code",
      "metadata": {
        "id": "56M-pSAtqObE",
        "colab_type": "code",
        "colab": {}
      },
      "source": [
        "import imageai #importing the library"
      ],
      "execution_count": 6,
      "outputs": []
    },
    {
      "cell_type": "markdown",
      "metadata": {
        "id": "tFHK1rXwrdE9",
        "colab_type": "text"
      },
      "source": [
        "### Markdown Examples\n",
        "*Exemplos de Markdown*"
      ]
    },
    {
      "cell_type": "markdown",
      "metadata": {
        "id": "ybruIeIbrjLT",
        "colab_type": "text"
      },
      "source": [
        "*italic*  \n",
        "**bold**  \n",
        "`short programming code`  \n",
        "```\n",
        "long programming code\n",
        "```  \n",
        "\n",
        "Indentation:\n",
        "> Level 1\n",
        ">> Level 2\n",
        ">>> Level 3\n",
        "\n",
        "Ordered list:\n",
        "1. One\n",
        "2. Two\n",
        "3. Three\n",
        "\n",
        "Unordered list:\n",
        "* One\n",
        "* Two\n",
        "* Three\n",
        "\n",
        "Link:   \n",
        "[Python](https://www.python.org/)  \n",
        "\n",
        "Image link:  \n",
        "![Python](https://www.python.org/static/img/python-logo.png)"
      ]
    },
    {
      "cell_type": "markdown",
      "metadata": {
        "id": "Qf_0EQSevjfk",
        "colab_type": "text"
      },
      "source": [
        "### Mathematical expressions"
      ]
    },
    {
      "cell_type": "markdown",
      "metadata": {
        "id": "lomhINLvvvAi",
        "colab_type": "text"
      },
      "source": [
        "$y = x^2$  \n",
        "  \n",
        "$\\frac{1}{n} \\sum_{i=1}^{n}x_i$\n",
        "\n",
        "$A = \\begin{pmatrix}\n",
        "a_{1, 1} & a_{1, 2} \\\\\n",
        "a_{2, 1} & a_{2, 2}\n",
        "\\end{pmatrix}$"
      ]
    },
    {
      "cell_type": "markdown",
      "metadata": {
        "id": "loYDDJSQxXfC",
        "colab_type": "text"
      },
      "source": [
        "### Columns"
      ]
    },
    {
      "cell_type": "markdown",
      "metadata": {
        "id": "ty8E1PocxiXJ",
        "colab_type": "text"
      },
      "source": [
        "Col1 | Col2 | Col3\n",
        "--- | --- | ---\n",
        "Val1 | Val2 | Val3\n",
        "Val4 | Val5 | Val6"
      ]
    }
  ]
}
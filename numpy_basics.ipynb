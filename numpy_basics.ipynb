{
  "nbformat": 4,
  "nbformat_minor": 0,
  "metadata": {
    "colab": {
      "name": "numpy-basics.ipynb",
      "provenance": [],
      "authorship_tag": "ABX9TyNPFzWca+BHw9YHbkLZjPsE",
      "include_colab_link": true
    },
    "kernelspec": {
      "name": "python3",
      "display_name": "Python 3"
    }
  },
  "cells": [
    {
      "cell_type": "markdown",
      "metadata": {
        "id": "view-in-github",
        "colab_type": "text"
      },
      "source": [
        "<a href=\"https://colab.research.google.com/github/DataGF/data-science-python-exercises/blob/master/numpy_basics.ipynb\" target=\"_parent\"><img src=\"https://colab.research.google.com/assets/colab-badge.svg\" alt=\"Open In Colab\"/></a>"
      ]
    },
    {
      "cell_type": "markdown",
      "metadata": {
        "id": "MMGdnThkkgb_",
        "colab_type": "text"
      },
      "source": [
        "# Ranged data\n"
      ]
    },
    {
      "cell_type": "code",
      "metadata": {
        "id": "iZ7vmGhTkZ7H",
        "colab_type": "code",
        "colab": {}
      },
      "source": [
        "# import numpy\n",
        "import numpy as np"
      ],
      "execution_count": 1,
      "outputs": []
    },
    {
      "cell_type": "markdown",
      "metadata": {
        "id": "UhlQuk7rlPpt",
        "colab_type": "text"
      },
      "source": [
        "The output of np.arange:\n",
        "\n",
        "1. If only a single number, n, is passed in as an argument, np.arange will return an array with all the integers in the range [0, n). Note: the lower end is inclusive while the upper end is exclusive.\n",
        "\n",
        "2. For two arguments, m and n, np.arange will return an array with all the integers in the range [m, n).\n",
        "\n",
        "3. For three arguments, m, n, and s, np.arange will return an array with the integers in the range [m, n) using a step size of s.\n",
        "\n",
        "4. Like np.array, np.arange performs upcasting. It also has the dtype keyword argument to manually cast the array."
      ]
    },
    {
      "cell_type": "code",
      "metadata": {
        "id": "fRYbDgFik60A",
        "colab_type": "code",
        "colab": {
          "base_uri": "https://localhost:8080/",
          "height": 85
        },
        "outputId": "130c2bdb-843d-438e-a57e-9a75a2cc3c2c"
      },
      "source": [
        "arr = np.arange(10)\n",
        "print(repr(arr))\n",
        "\n",
        "arr = np.arange(10.1)\n",
        "print(repr(arr))\n",
        "\n",
        "arr = np.arange(-1, 9)\n",
        "print(repr(arr))\n",
        "\n",
        "arr = np.arange(-1.5, 9, 2)\n",
        "print(repr(arr))"
      ],
      "execution_count": 2,
      "outputs": [
        {
          "output_type": "stream",
          "text": [
            "array([0, 1, 2, 3, 4, 5, 6, 7, 8, 9])\n",
            "array([ 0.,  1.,  2.,  3.,  4.,  5.,  6.,  7.,  8.,  9., 10.])\n",
            "array([-1,  0,  1,  2,  3,  4,  5,  6,  7,  8])\n",
            "array([-1.5,  0.5,  2.5,  4.5,  6.5,  8.5])\n"
          ],
          "name": "stdout"
        }
      ]
    },
    {
      "cell_type": "markdown",
      "metadata": {
        "id": "NqBskbQalqGt",
        "colab_type": "text"
      },
      "source": [
        "To specify the number of elements in the returned array, rather than the step size, we can use the `np.linspace` function."
      ]
    },
    {
      "cell_type": "code",
      "metadata": {
        "id": "Z72alaAoly03",
        "colab_type": "code",
        "colab": {
          "base_uri": "https://localhost:8080/",
          "height": 68
        },
        "outputId": "20db411c-7163-436a-d1f3-3ab10b856d23"
      },
      "source": [
        "arr = np.linspace(1, 20, num=5)\n",
        "print(repr(arr))\n",
        "\n",
        "arr = np.linspace(7, 21, num=4, endpoint=False)\n",
        "print(repr(arr))\n",
        "\n",
        "arr = np.linspace(3, 12, num=4, dtype=np.int32)\n",
        "print(repr(arr))"
      ],
      "execution_count": 4,
      "outputs": [
        {
          "output_type": "stream",
          "text": [
            "array([ 1.  ,  5.75, 10.5 , 15.25, 20.  ])\n",
            "array([ 7. , 10.5, 14. , 17.5])\n",
            "array([ 3,  6,  9, 12], dtype=int32)\n"
          ],
          "name": "stdout"
        }
      ]
    },
    {
      "cell_type": "markdown",
      "metadata": {
        "id": "4KNPM_TBmf9N",
        "colab_type": "text"
      },
      "source": [
        "# Reshaping data"
      ]
    },
    {
      "cell_type": "code",
      "metadata": {
        "id": "EC7dQfK1mhJA",
        "colab_type": "code",
        "colab": {
          "base_uri": "https://localhost:8080/",
          "height": 289
        },
        "outputId": "617e731b-5972-49b6-f6b9-f80ab2661abd"
      },
      "source": [
        "# reshape to any dimension wished\n",
        "arr = np.arange(8)\n",
        "print('Original array: {}'.format(repr(arr)), '\\n')\n",
        "reshaped_arr = np.reshape(arr, (2, 4))\n",
        "print('Original array 2D (2x4): \\n {}'.format(repr(reshaped_arr)), '\\n')\n",
        "print('New shape: {}'.format(reshaped_arr.shape), '\\n')\n",
        "reshaped_arr = np.reshape(arr, (-1, 2, 2))\n",
        "print('Original array 3D (2x2x2): \\n {}'.format(repr(reshaped_arr)), '\\n')\n",
        "print('New shape: {}'.format(reshaped_arr.shape))"
      ],
      "execution_count": 17,
      "outputs": [
        {
          "output_type": "stream",
          "text": [
            "Original array: array([0, 1, 2, 3, 4, 5, 6, 7]) \n",
            "\n",
            "Original array 2D (2x4): \n",
            " array([[0, 1, 2, 3],\n",
            "       [4, 5, 6, 7]]) \n",
            "\n",
            "New shape: (2, 4) \n",
            "\n",
            "Original array 3D (2x2x2): \n",
            " array([[[0, 1],\n",
            "        [2, 3]],\n",
            "\n",
            "       [[4, 5],\n",
            "        [6, 7]]]) \n",
            "\n",
            "New shape: (2, 2, 2)\n"
          ],
          "name": "stdout"
        }
      ]
    },
    {
      "cell_type": "code",
      "metadata": {
        "id": "Hmc5sE8FrD39",
        "colab_type": "code",
        "colab": {
          "base_uri": "https://localhost:8080/",
          "height": 153
        },
        "outputId": "a48bc9f3-da81-4df9-dcfc-8a0ec9dbd865"
      },
      "source": [
        "# reshape to any dimension wished and flatten to 1D with flatten function\n",
        "arr = np.arange(8)\n",
        "arr = np.reshape(arr, (2, 4))\n",
        "flattened = arr.flatten()\n",
        "print(repr(arr), '\\n')\n",
        "print('arr shape: {}'.format(arr.shape), '\\n')\n",
        "print(repr(flattened), '\\n')\n",
        "print('flattened shape: {}'.format(flattened.shape))"
      ],
      "execution_count": 19,
      "outputs": [
        {
          "output_type": "stream",
          "text": [
            "array([[0, 1, 2, 3],\n",
            "       [4, 5, 6, 7]]) \n",
            "\n",
            "arr shape: (2, 4) \n",
            "\n",
            "array([0, 1, 2, 3, 4, 5, 6, 7]) \n",
            "\n",
            "flattened shape: (8,)\n"
          ],
          "name": "stdout"
        }
      ]
    },
    {
      "cell_type": "markdown",
      "metadata": {
        "id": "TemvdpBZrziz",
        "colab_type": "text"
      },
      "source": [
        "# Transposing data"
      ]
    },
    {
      "cell_type": "code",
      "metadata": {
        "id": "1y76AX3Fr1Dx",
        "colab_type": "code",
        "colab": {
          "base_uri": "https://localhost:8080/",
          "height": 153
        },
        "outputId": "325e24d5-3719-48ee-9bd5-2c767ee7f2f9"
      },
      "source": [
        "# np.transpose function to transpose data\n",
        "arr = np.arange(8)\n",
        "arr = np.reshape(arr, (4, 2))\n",
        "transposed = np.transpose(arr)\n",
        "print(repr(arr))\n",
        "print('arr shape: {}'.format(arr.shape))\n",
        "print(repr(transposed))\n",
        "print('transposed shape: {}'.format(transposed.shape))"
      ],
      "execution_count": 20,
      "outputs": [
        {
          "output_type": "stream",
          "text": [
            "array([[0, 1],\n",
            "       [2, 3],\n",
            "       [4, 5],\n",
            "       [6, 7]])\n",
            "arr shape: (4, 2)\n",
            "array([[0, 2, 4, 6],\n",
            "       [1, 3, 5, 7]])\n",
            "transposed shape: (2, 4)\n"
          ],
          "name": "stdout"
        }
      ]
    },
    {
      "cell_type": "code",
      "metadata": {
        "id": "xEsMK_8et4S_",
        "colab_type": "code",
        "colab": {
          "base_uri": "https://localhost:8080/",
          "height": 578
        },
        "outputId": "c970a261-c8c5-47b1-a09a-b5d863654927"
      },
      "source": [
        "arr = np.arange(24)\n",
        "print(repr(arr), '\\n')\n",
        "arr = np.reshape(arr, (3, 4, 2))\n",
        "print(repr(arr), '\\n')\n",
        "print('arr shape: {}'.format(arr.shape), '\\n')\n",
        "transposed = np.transpose(arr, axes=(1, 2, 0))\n",
        "print(repr(transposed), '\\n')\n",
        "print('transposed arr shape: {}'.format(transposed.shape))"
      ],
      "execution_count": 25,
      "outputs": [
        {
          "output_type": "stream",
          "text": [
            "array([ 0,  1,  2,  3,  4,  5,  6,  7,  8,  9, 10, 11, 12, 13, 14, 15, 16,\n",
            "       17, 18, 19, 20, 21, 22, 23]) \n",
            "\n",
            "array([[[ 0,  1],\n",
            "        [ 2,  3],\n",
            "        [ 4,  5],\n",
            "        [ 6,  7]],\n",
            "\n",
            "       [[ 8,  9],\n",
            "        [10, 11],\n",
            "        [12, 13],\n",
            "        [14, 15]],\n",
            "\n",
            "       [[16, 17],\n",
            "        [18, 19],\n",
            "        [20, 21],\n",
            "        [22, 23]]]) \n",
            "\n",
            "arr shape: (3, 4, 2) \n",
            "\n",
            "array([[[ 0,  8, 16],\n",
            "        [ 1,  9, 17]],\n",
            "\n",
            "       [[ 2, 10, 18],\n",
            "        [ 3, 11, 19]],\n",
            "\n",
            "       [[ 4, 12, 20],\n",
            "        [ 5, 13, 21]],\n",
            "\n",
            "       [[ 6, 14, 22],\n",
            "        [ 7, 15, 23]]]) \n",
            "\n",
            "transposed arr shape: (4, 2, 3)\n"
          ],
          "name": "stdout"
        }
      ]
    },
    {
      "cell_type": "markdown",
      "metadata": {
        "id": "VZg0MSwNvcEU",
        "colab_type": "text"
      },
      "source": [
        "In this example, the old first dimension became the new third dimension, the old second dimension became the new first dimension, and the old third dimension became the new second dimension. The default value for axes is a dimension reversal (e.g. for 3-D data the default axes value is [2, 1, 0])."
      ]
    },
    {
      "cell_type": "markdown",
      "metadata": {
        "id": "PLQlGM7ovkqq",
        "colab_type": "text"
      },
      "source": [
        "# Zeros and ones"
      ]
    },
    {
      "cell_type": "code",
      "metadata": {
        "id": "lkjIS0vAuNZ4",
        "colab_type": "code",
        "colab": {
          "base_uri": "https://localhost:8080/",
          "height": 170
        },
        "outputId": "6fdb082f-1a33-452e-bed6-df633541c4ba"
      },
      "source": [
        "arr = np.zeros(5)\n",
        "print(repr(arr))\n",
        "\n",
        "arr = np.ones((4, 5))\n",
        "print(repr(arr))\n",
        "\n",
        "arr = np.ones((4, 5), dtype=np.int32)\n",
        "print(repr(arr))"
      ],
      "execution_count": 26,
      "outputs": [
        {
          "output_type": "stream",
          "text": [
            "array([0., 0., 0., 0., 0.])\n",
            "array([[1., 1., 1., 1., 1.],\n",
            "       [1., 1., 1., 1., 1.],\n",
            "       [1., 1., 1., 1., 1.],\n",
            "       [1., 1., 1., 1., 1.]])\n",
            "array([[1, 1, 1, 1, 1],\n",
            "       [1, 1, 1, 1, 1],\n",
            "       [1, 1, 1, 1, 1],\n",
            "       [1, 1, 1, 1, 1]], dtype=int32)\n"
          ],
          "name": "stdout"
        }
      ]
    },
    {
      "cell_type": "markdown",
      "metadata": {
        "id": "ZSTrqqszv_7K",
        "colab_type": "text"
      },
      "source": [
        "If we want to create an array of 0's or 1's with the same shape as another array, we can use `np.zeros_like` and `np.ones_like`."
      ]
    },
    {
      "cell_type": "code",
      "metadata": {
        "id": "WvYi7RW1wBCh",
        "colab_type": "code",
        "colab": {
          "base_uri": "https://localhost:8080/",
          "height": 119
        },
        "outputId": "99f44198-cfb2-4fc2-8feb-8922a3b64b0d"
      },
      "source": [
        "arr = np.array([[5, 6], [7, 8]])\n",
        "print(repr(np.zeros_like(arr)))\n",
        "arr = np.array([[10., 11.], [11.2, 14.]])\n",
        "print(repr(np.ones_like(arr)))\n",
        "print(repr(np.ones_like(arr, dtype=np.int32)))"
      ],
      "execution_count": 27,
      "outputs": [
        {
          "output_type": "stream",
          "text": [
            "array([[0, 0],\n",
            "       [0, 0]])\n",
            "array([[1., 1.],\n",
            "       [1., 1.]])\n",
            "array([[1, 1],\n",
            "       [1, 1]], dtype=int32)\n"
          ],
          "name": "stdout"
        }
      ]
    }
  ]
}